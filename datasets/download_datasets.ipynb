{
 "cells": [
  {
   "cell_type": "code",
   "execution_count": 2,
   "metadata": {},
   "outputs": [
    {
     "name": "stdout",
     "output_type": "stream",
     "text": [
      "<spotipy.client.Spotify object at 0x7fd8c28c3898>\n"
     ]
    }
   ],
   "source": [
    "import numpy as np\n",
    "import pandas as pd\n",
    "import spotipy as sp\n",
    "import numbers\n",
    "import spotipy.util as util\n",
    "\n",
    "SPOTIPY_REDIRECT_URI='http://localhost:8888/callback'\n",
    "SPOTIPY_CLIENT_SECRET='c02f97ddd119470d8e24b290722c7490'\n",
    "SPOTIPY_CLIENT_ID='647ffb8c163b4882be0cafe4bf1352d5'\n",
    "USERNAME='lh7smhcywr18vctg4xmnoehzu'\n",
    "SCOPE='user-library-read'\n",
    "\n",
    "token = util.prompt_for_user_token(username=USERNAME,\n",
    "                           scope=SCOPE,\n",
    "                           client_id=SPOTIPY_CLIENT_ID,\n",
    "                           client_secret=SPOTIPY_CLIENT_SECRET,\n",
    "                           redirect_uri=SPOTIPY_REDIRECT_URI)\n",
    "\n",
    "s = sp.Spotify(auth=token)"
   ]
  },
  {
   "cell_type": "code",
   "execution_count": 3,
   "metadata": {
    "collapsed": true
   },
   "outputs": [],
   "source": [
    "def get_track_ids(tracks, ide=True):\n",
    "    \"\"\"Collect all track id's in a list of tracks\"\"\"\n",
    "    \n",
    "    if ide:\n",
    "        return [track['track']['id'] for track in tracks]\n",
    "    else:\n",
    "        return [track['id'] for track in tracks]\n",
    "\n",
    "\n",
    "def get_audio_features(ids):\n",
    "    \"\"\"Collect all audio features in a list from a given list of track id's\"\"\"\n",
    "    audio_feats = []\n",
    "\n",
    "    for i in range(0, len(ids), 100):\n",
    "        audio_feats += s.audio_features(ids[i:i + 100])\n",
    "\n",
    "    return audio_feats\n",
    "\n",
    "def getDataframe(features):\n",
    "    matrix = []\n",
    "    metamatrix = []\n",
    "    for track in features:\n",
    "        try:\n",
    "            matrix += [[x for x in track.values() if isinstance(x, numbers.Number)]]\n",
    "            metamatrix += [[x for x in track.values() if not isinstance(x, numbers.Number)]]\n",
    "        except:\n",
    "            pass\n",
    "        \n",
    "    return np.array(matrix), metamatrix\n",
    "\n",
    "\n",
    "\n",
    "def get_random_sample(genre, iters = 20):\n",
    "    \"\"\"Main function\"\"\"\n",
    "    query = s.search(q='genre:{0}'.format(genre))\n",
    "    tracks = []\n",
    "    \n",
    "    i = 0\n",
    "    \n",
    "    while query['tracks']['next']:\n",
    "        tracks.extend(query['tracks']['items'])\n",
    "        query = s.next(query['tracks'])\n",
    "        \n",
    "        i += 1\n",
    "        \n",
    "        if i == iters:\n",
    "            break\n",
    "            \n",
    "    feature_names = ['danceability', 'energy', 'key', 'loudness', 'mode', 'speechiness',\n",
    "     'acousticness', 'instrumentalness', 'liveness', 'valence', 'tempo', 'duration_ms', 'time_signature']\n",
    "  \n",
    "    # These steps are not computationally expensive\n",
    "    track_ids = get_track_ids(tracks, ide=False)\n",
    "    audio_feats = get_audio_features(track_ids)\n",
    "    \n",
    "    matrix_of_features, metamatrix = getDataframe(audio_feats)\n",
    "    df = pd.DataFrame(matrix_of_features)\n",
    "    df.columns = feature_names\n",
    "    \n",
    "    return df, metamatrix"
   ]
  },
  {
   "cell_type": "code",
   "execution_count": 4,
   "metadata": {},
   "outputs": [
    {
     "name": "stdout",
     "output_type": "stream",
     "text": [
      "retrying ...1secs\n",
      "retrying ...1secs\n",
      "retrying ...1secs\n",
      "retrying ...1secs\n",
      "retrying ...1secs\n",
      "retrying ...1secs\n",
      "retrying ...1secs\n",
      "retrying ...1secs\n",
      "retrying ...1secs\n",
      "retrying ...1secs\n",
      "retrying ...1secs\n",
      "retrying ...1secs\n",
      "retrying ...1secs\n"
     ]
    }
   ],
   "source": [
    "# Laurens: vaporwave, classical,    hiphop, house\n",
    "# Pieter:  rock,      punk,         jazz,   funk\n",
    "# Douwe: metal,       meditation,   k-pop, hardcore\n",
    "# Nima: rap,          soul,        techno, r-n-b\n",
    "a1, b1 = get_random_sample(\"rap\", 1000)\n",
    "a2, b2 = get_random_sample(\"soul\", 1000)\n",
    "a3, b3 = get_random_sample(\"techno\", 1000)\n",
    "a4, b4 = get_random_sample(\"grunge\", 1000)"
   ]
  },
  {
   "cell_type": "code",
   "execution_count": 5,
   "metadata": {
    "collapsed": true
   },
   "outputs": [],
   "source": [
    "a1.to_pickle('rap_features')\n",
    "a2.to_pickle('soul_features')\n",
    "a3.to_pickle('techno_features')\n",
    "a4.to_pickle('grunge_features')"
   ]
  },
  {
   "cell_type": "code",
   "execution_count": 6,
   "metadata": {
    "collapsed": true
   },
   "outputs": [],
   "source": [
    "import pickle\n",
    "\n",
    "pickle.dump(b1, open('rap_metafeatures', 'wb'))\n",
    "pickle.dump(b2, open('soul_metafeatures', 'wb'))\n",
    "pickle.dump(b3, open('techno_metafeatures', 'wb'))\n",
    "pickle.dump(b4, open('grunge_metafeatures', 'wb'))"
   ]
  },
  {
   "cell_type": "code",
   "execution_count": null,
   "metadata": {
    "collapsed": true
   },
   "outputs": [],
   "source": []
  }
 ],
 "metadata": {
  "kernelspec": {
   "display_name": "Python 3",
   "language": "python",
   "name": "python3"
  },
  "language_info": {
   "codemirror_mode": {
    "name": "ipython",
    "version": 3
   },
   "file_extension": ".py",
   "mimetype": "text/x-python",
   "name": "python",
   "nbconvert_exporter": "python",
   "pygments_lexer": "ipython3",
   "version": "3.6.1"
  },
  "toc": {
   "nav_menu": {},
   "number_sections": true,
   "sideBar": true,
   "skip_h1_title": false,
   "toc_cell": false,
   "toc_position": {},
   "toc_section_display": "block",
   "toc_window_display": false
  }
 },
 "nbformat": 4,
 "nbformat_minor": 2
}
