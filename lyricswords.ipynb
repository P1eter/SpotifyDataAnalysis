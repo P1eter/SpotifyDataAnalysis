{
 "cells": [
  {
   "cell_type": "code",
   "execution_count": 3,
   "metadata": {
    "collapsed": false
   },
   "outputs": [],
   "source": [
    "import os\n",
    "import sys\n",
    "import spotipy\n",
    "import spotipy.util as util\n",
    "\n",
    "from sklearn.decomposition import PCA\n",
    "from sklearn.preprocessing import scale, minmax_scale\n",
    "\n",
    "import matplotlib.pyplot as plt\n",
    "import numpy as np\n",
    "import pickle\n",
    "import pandas as pd\n",
    "import requests\n",
    "import string\n",
    "\n",
    "import re\n",
    "\n",
    "from ipywidgets import IntProgress\n",
    "from IPython.display import display\n",
    "\n",
    "import nltk\n",
    "\n",
    "from collections import Counter, defaultdict\n",
    "from py_genius import Genius\n",
    "from bs4 import BeautifulSoup\n",
    "\n",
    "SPOTIPY_REDIRECT_URI='http://localhost:8888/callback'\n",
    "SPOTIPY_CLIENT_SECRET='c02f97ddd119470d8e24b290722c7490'\n",
    "SPOTIPY_CLIENT_ID='647ffb8c163b4882be0cafe4bf1352d5'\n",
    "SCOPE='user-library-read'\n",
    "USERNAME = '29n1g5zgbzcs413wmovhqdguz'\n",
    "\n",
    "plt.rcParams['figure.figsize'] = (20, 14)"
   ]
  },
  {
   "cell_type": "code",
   "execution_count": 4,
   "metadata": {
    "collapsed": false
   },
   "outputs": [
    {
     "name": "stdout",
     "output_type": "stream",
     "text": [
      "\n",
      "\n",
      "            User authentication requires interaction with your\n",
      "            web browser. Once you enter your credentials and\n",
      "            give authorization, you will be redirected to\n",
      "            a url.  Paste that url you were directed to to\n",
      "            complete the authorization.\n",
      "\n",
      "        \n",
      "Opened https://accounts.spotify.com/authorize?response_type=code&redirect_uri=http%3A%2F%2Flocalhost%3A8888%2Fcallback&client_id=647ffb8c163b4882be0cafe4bf1352d5&scope=user-library-read in your browser\n",
      "\n",
      "\n",
      "Enter the URL you were redirected to: http://localhost:8888/callback?code=AQAUg3E-O7EZxPSeikqpvRUNUCtMlgQ7drosF5lDNfV5fbM5xKmM4MX8aYUasFkSEar52uj09LcDGz9-o2gp5B1i26JAULTtUr_Jj7y-tB-Z0PSSvxL2BtdrKeGF6O5ZQVKnG61ptNFMMLzNcHmDfmUnePyCt8z_SNqGI29UL_5qc3T46QrC4mIo1NaxjEZFPQu1BuL1DUPA3xdxGjtknGtbWuPFYNE\n",
      "\n",
      "\n"
     ]
    }
   ],
   "source": [
    "token = util.prompt_for_user_token(username=USERNAME,\n",
    "                           scope=SCOPE,\n",
    "                           client_id=SPOTIPY_CLIENT_ID,\n",
    "                           client_secret=SPOTIPY_CLIENT_SECRET,\n",
    "                           redirect_uri=SPOTIPY_REDIRECT_URI)\n",
    "\n",
    "if not token:\n",
    "    print(\"Can't get token for username\", username)\n",
    "    sys.exit(1)\n",
    "\n",
    "sp = spotipy.Spotify(auth=token)"
   ]
  },
  {
   "cell_type": "code",
   "execution_count": 5,
   "metadata": {
    "collapsed": true
   },
   "outputs": [],
   "source": [
    "genius = Genius('D1EklW0p0iQZEo18Ki2SGKBIlBatRKDZvxPcbPYny1Hq2UQo8UJ78abO-DjTXelr')"
   ]
  },
  {
   "cell_type": "code",
   "execution_count": 6,
   "metadata": {
    "collapsed": true
   },
   "outputs": [],
   "source": [
    "def get_song_lyrics(song_name):\n",
    "    search_results = genius.search(song_name)\n",
    "    try:\n",
    "        song_url = search_results['response']['hits'][0]['result']['url']\n",
    "    except:\n",
    "        return ''\n",
    "    page = requests.get(song_url)\n",
    "    html = BeautifulSoup(page.text, 'html.parser')\n",
    "    lyrics_bytes = html.find('div', class_='lyrics').get_text().encode('ascii', 'ignore')\n",
    "    lyrics = lyrics_bytes.decode('ascii')\n",
    "    \n",
    "    return re.sub(r'\\[(.*?)\\]', '', lyrics)"
   ]
  },
  {
   "cell_type": "code",
   "execution_count": 8,
   "metadata": {
    "collapsed": false
   },
   "outputs": [
    {
     "data": {
      "text/plain": [
       "'\\n\\n\\n\\n\\nEverything black, I don\\'t want black (They want us to bow)\\nI want everything black, I ain\\'t need black (Down to our knees)\\nSome white, some black, I ain\\'t mean black (And pray to a God)\\nI want everything black (That we don\\'t believe)\\nEverything black, want all things black\\nI don\\'t need black, want everything black\\nDon\\'t need black, our eyes ain\\'t black\\nI own black, own everything black\\n\\n\\nSix in the morn\\', fire in the street\\nBurn, baby, burn, that\\'s all I wanna see\\nAnd sometimes I get off watchin\\' you die in vain\\nIt\\'s such a shame they may call me crazy\\nThey may say I suffer from schizophrenia or somethin\\'\\nBut homie, you made me\\nBlack don\\'t crack, my nigga\\n\\n\\nI\\'m the biggest hypocrite of 2015\\nOnce I finish this, witnesses will convey just what I mean\\nBeen feeling this way since I was 16, came to my senses\\nYou never liked us anyway, fuck your friendship, I meant it\\nI\\'m African-American, I\\'m African\\nI\\'m black as the moon, heritage of a small village\\nPardon my residence\\nCame from the bottom of mankind\\nMy hair is nappy, my dick is big, my nose is round and wide\\nYou hate me don\\'t you?\\nYou hate my people, your plan is to terminate my culture\\nYou\\'re fuckin\\' evil I want you to recognize that I\\'m a proud monkey\\nYou vandalize my perception but can\\'t take style from me\\nAnd this is more than confession\\nI mean I might press the button just so you know my discretion\\nI\\'m guardin\\' my feelings, I know that you feel it\\nYou sabotage my community, makin\\' a killin\\'\\nYou made me a killer, emancipation of a real nigga\\n\\n\\nThe blacker the berry, the sweeter the juice\\nThe blacker the berry, the sweeter the juice\\nThe blacker the berry, the sweeter the juice\\nThe blacker the berry, the bigger I shoot\\n\\n\\nI said they treat me like a slave, cah\\' me black\\nWoi, we feel a whole heap of pain, cah\\' we black\\nAnd man a say they put me inna chains, cah\\' we black\\nImagine now, big gold chains full of rocks\\nHow you no see the whip, left scars pon\\' me back\\nBut now we have a big whip parked pon\\' the block\\nAll them say we doomed from the start, cah\\' we black\\nRemember this, every race start from the block, jus \\'member dat\\n\\n\\nI\\'m the biggest hypocrite of 2015\\nOnce I finish this, witnesses will convey just what I mean\\nI mean, it\\'s evident that I\\'m irrelevant to society\\nThat\\'s what you\\'re telling me, penitentiary would only hire me\\nCurse me till I\\'m dead\\nChurch me with your fake prophesizing that I\\'mma be just another slave in my head\\nInstitutionalized manipulation and lies\\nReciprocation of freedom only live in your eyes\\nYou hate me don\\'t you?\\nI know you hate me just as much as you hate yourself\\nJealous of my wisdom and cards I dealt\\nWatchin\\' me as I pull up, fill up my tank, then peel out\\nMuscle cars like pull ups, show you what these big wheels \\'bout, ah\\nBlack and successful, this black man meant to be special\\nKatzkins on my radar, bitch, how can I help you?\\nHow can I tell you I\\'m making a killin\\'?\\nYou made me a killer, emancipation of a real nigga\\n\\n\\nThe blacker the berry, the sweeter the juice\\nThe blacker the berry, the sweeter the juice\\nThe blacker the berry, the sweeter the juice\\nThe blacker the berry, the bigger I shoot\\n\\n\\nI said they treat me like a slave, cah\\' me black\\nWoi, we feel a whole heap of pain, cah\\' we black\\nAnd man a say they put me inna chains, cah\\' we black\\nImagine now, big gold chains full of rocks\\nHow you no see the whip, left scars pon\\' me back\\nBut now we have a big whip parked pon\\' the block\\nAll them say we doomed from the start, cah\\' we black\\nRemember this, every race start from the block, jus \\'member dat\\n\\n\\nI\\'m the biggest hypocrite of 2015\\nWhen I finish this if you listenin\\' then sure you will agree\\nThis plot is bigger than me, it\\'s generational hatred\\nIt\\'s genocism, it\\'s grimy, little justification\\nI\\'m African-American, I\\'m African\\nI\\'m black as the heart of a fuckin\\' Aryan\\nI\\'m black as the name of Tyrone and Darius\\nExcuse my French but fuck you  no, fuck y\\'all\\nThat\\'s as blunt as it gets, I know you hate me, don\\'t you?\\nYou hate my people, I can tell cause it\\'s threats when I see you\\nI can tell cause your ways deceitful\\nKnow I can tell because you\\'re in love with that Desert Eagle\\nThinkin\\' maliciously, he get a chain then you gone bleed him\\nIt\\'s funny how Zulu and Xhosa might go to war\\nTwo tribal armies that want to build and destroy\\nRemind me of these Compton Crip gangs that live next door\\nBeefin\\' with Pirus, only death settle the score\\nSo don\\'t matter how much I say I like to preach with the Panthers\\nOr tell Georgia State \"Marcus Garvey got all the answers\"\\nOr try to celebrate February like it\\'s my B-Day\\nOr eat watermelon, chicken, and Kool-Aid on weekdays\\nOr jump high enough to get Michael Jordan endorsements\\nOr watch BET cause urban support is important\\nSo why did I weep when Trayvon Martin was in the street when gang banging make me kill a nigga blacker than me?\\nHypocrite!\\n\\n\\n\\n'"
      ]
     },
     "execution_count": 8,
     "metadata": {},
     "output_type": "execute_result"
    }
   ],
   "source": [
    "get_song_lyrics('blacker the berry')"
   ]
  },
  {
   "cell_type": "code",
   "execution_count": 30,
   "metadata": {
    "collapsed": true
   },
   "outputs": [],
   "source": [
    "def get_lyrics_spotify_uri(uri):\n",
    "    global sp\n",
    "    while True:\n",
    "        try:\n",
    "            track = sp.track(uri)\n",
    "            track_name = track['name']\n",
    "            track_artist = track['artists'][0]['name']\n",
    "            full_name = '{0} - {1}'.format(track_name, track_artist)\n",
    "            return get_song_lyrics(full_name)\n",
    "        except:\n",
    "            token = util.prompt_for_user_token(username=USERNAME,\n",
    "                               scope=SCOPE,\n",
    "                               client_id=SPOTIPY_CLIENT_ID,\n",
    "                               client_secret=SPOTIPY_CLIENT_SECRET,\n",
    "                               redirect_uri=SPOTIPY_REDIRECT_URI)\n",
    "\n",
    "            if not token:\n",
    "                print(\"Can't get token for username\", username)\n",
    "                sys.exit(1)\n",
    "\n",
    "            sp = spotipy.Spotify(auth=token)"
   ]
  },
  {
   "cell_type": "code",
   "execution_count": 10,
   "metadata": {
    "collapsed": false
   },
   "outputs": [
    {
     "name": "stdout",
     "output_type": "stream",
     "text": [
      "\n",
      "\n",
      "\n",
      "Are you alright?\n",
      "I'm alright, I'm quite alright\n",
      "And my money's right\n",
      "8 (yeah)\n",
      "Countin' them bands\n",
      "All way to the top 'til they be fallin' over\n",
      "(yeah, yeah, yeah)\n",
      "Countin' them bands\n",
      "On my way to the top 'til we fallin' over\n",
      "\n",
      "\n",
      "I don't really care if you cry\n",
      "On the real, you shoulda never lied\n",
      "Shoulda saw the way she looked me in my eyes\n",
      "She said: \"Baby, I am not afraid to die.\"\n",
      "Push me to the edge\n",
      "All my friends are dead\n",
      "Push me to the edge\n",
      "All my friends are dead\n",
      "Push me to the edge\n",
      "All my friends are dead\n",
      "Push me to the edge\n",
      "\n",
      "\n",
      "Phantom that's all red, inside all white\n",
      "Like somethin' you ride a sled down, I just want that head\n",
      "My Brittany got mad, I'm barely her man now\n",
      "Everybody got the same swag now\n",
      "Watch the way that I tear it down\n",
      "Stackin' my bands all the way to the top\n",
      "All the way 'til my bands fallin' over\n",
      "Every time that you leave your spot\n",
      "Your girlfriend call me like, \"Come on over!\"\n",
      "I like the way that she treat me\n",
      "Gon' leave you, won't leave me, I call it that Casanova\n",
      "She say I'm insane, yeah\n",
      "I might blow my brain out (hey)\n",
      "Xanny, help the pain, yeah\n",
      "Please, Xanny, make it go away\n",
      "I'm committed, not addicted, but it keep control of me\n",
      "All the pain, now I can't feel it\n",
      "I swear that it's slowin' me, yeah\n",
      "\n",
      "\n",
      "I don't really care if you cry\n",
      "On the real, you shoulda never lied\n",
      "Saw the way she looked me in my eyes\n",
      "She said: \"I am not afraid to die.\", yo\n",
      "All my friends are dead\n",
      "Push me to the edge (yeah)\n",
      "All my friends are dead, yeah, ooh\n",
      "Push me to the edge\n",
      "All my friends are dead, yeah\n",
      "All my friends are dead, yeah\n",
      "\n",
      "\n",
      "That is not your swag, I swear you fake hard\n",
      "Now these niggas wanna take my cadence\n",
      "Rain on 'em, thunderstorm, rain on 'em (ooh, yeah)\n",
      "Medicine, lil' nigga, take some (yeh, yeh)\n",
      "Fast car, NASCAR, race on 'em\n",
      "In the club, ain't got no ones, then we would beg them\n",
      "Clothes from overseas, got the racks and they all C-Notes\n",
      "You is not a G though\n",
      "Lookin' at you stackin' all your money, it all green though\n",
      "I was countin' that and these all twenties, that's a G-roll\n",
      "\n",
      "\n",
      "She say: \"You're the worst, you're the worst.\"\n",
      "I cannot die because this my universe\n",
      "\n",
      "\n",
      "I don't really care if you cry\n",
      "On the real, you shoulda never lied\n",
      "Shoulda saw the way she looked me in my eyes\n",
      "She said: \"Baby, I am not afraid to die.\"\n",
      "Push me to the edge\n",
      "All my friends are dead\n",
      "Push me to the edge\n",
      "All my friends are dead\n",
      "Push me to the edge\n",
      "All my friends are dead\n",
      "Push me to the edge\n",
      "\n",
      "\n"
     ]
    }
   ],
   "source": [
    "test = pickle.load(open('datasets/rap_metafeatures', 'rb'))\n",
    "# test_dict = {\n",
    "    \n",
    "# }\n",
    "# print(test[0])\n",
    "# print([x])\n",
    "testtest = test['uri'][4]\n",
    "print(get_lyrics_spotify_uri(testtest))\n",
    "x = get_lyrics_spotify_uri(testtest)"
   ]
  },
  {
   "cell_type": "code",
   "execution_count": 34,
   "metadata": {
    "collapsed": true
   },
   "outputs": [],
   "source": [
    "def log_progress(sequence, every=None, size=None, name='Items'):\n",
    "    from ipywidgets import IntProgress, HTML, VBox\n",
    "    from IPython.display import display\n",
    "\n",
    "    is_iterator = False\n",
    "    if size is None:\n",
    "        try:\n",
    "            size = len(sequence)\n",
    "        except TypeError:\n",
    "            is_iterator = True\n",
    "    if size is not None:\n",
    "        if every is None:\n",
    "            if size <= 200:\n",
    "                every = 1\n",
    "            else:\n",
    "                every = int(size / 200)     # every 0.5%\n",
    "    else:\n",
    "        assert every is not None, 'sequence is iterator, set every'\n",
    "\n",
    "    if is_iterator:\n",
    "        progress = IntProgress(min=0, max=1, value=1)\n",
    "        progress.bar_style = 'info'\n",
    "    else:\n",
    "        progress = IntProgress(min=0, max=size, value=0)\n",
    "    label = HTML()\n",
    "    box = VBox(children=[label, progress])\n",
    "    display(box)\n",
    "\n",
    "    index = 0\n",
    "    try:\n",
    "        for index, record in enumerate(sequence, 1):\n",
    "            if index == 1 or index % every == 0:\n",
    "                if is_iterator:\n",
    "                    label.value = '{name}: {index} / ?'.format(\n",
    "                        name=name,\n",
    "                        index=index\n",
    "                    )\n",
    "                else:\n",
    "                    progress.value = index\n",
    "                    label.value = u'{name}: {index} / {size}'.format(\n",
    "                        name=name,\n",
    "                        index=index,\n",
    "                        size=size\n",
    "                    )\n",
    "            yield record\n",
    "    except:\n",
    "        progress.bar_style = 'danger'\n",
    "        raise\n",
    "    else:\n",
    "        progress.bar_style = 'success'\n",
    "        progress.value = index\n",
    "        label.value = \"{name}: {index}\".format(\n",
    "            name=name,\n",
    "            index=str(index or '?')\n",
    "        )\n",
    "        progress.layout.display = 'none'\n",
    "        box.layout.display = 'none'        "
   ]
  },
  {
   "cell_type": "code",
   "execution_count": 12,
   "metadata": {
    "collapsed": true
   },
   "outputs": [],
   "source": [
    "lyrics_dict = {}"
   ]
  },
  {
   "cell_type": "code",
   "execution_count": 31,
   "metadata": {
    "collapsed": true
   },
   "outputs": [],
   "source": [
    "def get_lyrics_dicts(genre_dict):\n",
    "    all_classes = list(genre_dict.keys())\n",
    "    N = 0\n",
    "    index = defaultdict(dict)\n",
    "    inverted_index = defaultdict(lambda: defaultdict(set))\n",
    "        \n",
    "    for genre_name, genre_matrix in log_progress(genre_dict.items(), every=1):\n",
    "        N += genre_matrix.shape[0]\n",
    "        print('Now processing: {}'.format(genre_name))\n",
    "        for uri in log_progress(genre_matrix.uri, every=1):\n",
    "            tokens = None\n",
    "            if uri not in lyrics_dict:\n",
    "                lyrics = get_lyrics_spotify_uri(uri)\n",
    "                tokens = set(nltk.tokenize.word_tokenize(lyrics.lower()))\n",
    "                index[genre_name][uri] = tokens\n",
    "                lyrics_dict[uri] = tokens\n",
    "            else:\n",
    "                tokens = lyrics_dict[uri] \n",
    "                index[genre_name][uri] = tokens               \n",
    "            for token in tokens:\n",
    "                inverted_index[token][genre_name].add(uri)\n",
    "    \n",
    "    return index, inverted_index, N"
   ]
  },
  {
   "cell_type": "code",
   "execution_count": 32,
   "metadata": {
    "collapsed": true
   },
   "outputs": [],
   "source": [
    "def mutual_information(t, c, my_index, inverted_index, N):\n",
    "    # amount of documents that contain tag t, and are in class c\n",
    "    N_11 =  len(set(inverted_index[t][c])) \n",
    "\n",
    "    # amount of documents that contain tag t, but are not in class c\n",
    "    N_10 =  len(set([\n",
    "        i for sub in [inverted_index[t][z] for z in [x for x in inverted_index[t].keys() if x != c]]\n",
    "        for i in sub\n",
    "    ]))\n",
    "    \n",
    "    # amount of documents that do not contain tag t, but are in class c\n",
    "    N_01 =  len(set([x for x in my_index[c].keys() if t not in my_index[c][x]]))\n",
    "    \n",
    "    # amount of documents that do not contain tag t, and are not in class c\n",
    "    N_00 = N - len(set(my_index[c].keys()) |\n",
    "                   set([i for sub in [\n",
    "                       inverted_index[t][s] for s in inverted_index[t].keys() if s != c\n",
    "                   ] for i in sub]))\n",
    "    \n",
    "    # Get all the formula's written down for easier returning\n",
    "    m_1 = (N_11 / N) * np.log2((N * N_11 / ((N_11 + N_10) * (N_11 + N_01))))\\\n",
    "        if N_11 != 0 and N_11 + N_10 != 0 and N_11 + N_01 != 0 else 0\n",
    "                \n",
    "    m_2 = (N_01 / N) * np.log2((N * N_01 / ((N_01 + N_00) * (N_11 + N_01))))\\\n",
    "        if N_01 != 0 and N_01 + N_00 != 0 and N_11 + N_01 != 0 else 0\n",
    "        \n",
    "    m_3 = (N_10 / N) * np.log2((N * N_10 / ((N_11 + N_10) * (N_10 + N_00))))\\\n",
    "        if N_10 != 0 and N_11 + N_10 != 0 and N_10 + N_00 != 0 else 0\n",
    "        \n",
    "    m_4 = (N_00 / N) * np.log2((N * N_00 / ((N_01 + N_00) * (N_10 + N_00))))\\\n",
    "        if N_00 != 0 and N_01 + N_00 != 0 and N_10 + N_00 != 0 else 0\n",
    "\n",
    "    return m_1 + m_2 + m_3 + m_4"
   ]
  },
  {
   "cell_type": "code",
   "execution_count": null,
   "metadata": {
    "collapsed": false
   },
   "outputs": [
    {
     "data": {
      "application/vnd.jupyter.widget-view+json": {
       "model_id": "f83234ed9f694d2a9e05b0e43559d3fa"
      }
     },
     "metadata": {},
     "output_type": "display_data"
    },
    {
     "name": "stdout",
     "output_type": "stream",
     "text": [
      "Now processing: rap\n"
     ]
    },
    {
     "data": {
      "application/vnd.jupyter.widget-view+json": {
       "model_id": "d9aa95e54ac24d41960d64988cb0ef98"
      }
     },
     "metadata": {},
     "output_type": "display_data"
    }
   ],
   "source": [
    "index, inverted_index, N = get_lyrics_dicts({\n",
    "    'rap': pickle.load(open('datasets/rap_metafeatures', 'rb')),\n",
    "    'techno': pickle.load(open('datasets/techno_metafeatures', 'rb')),\n",
    "    'soul': pickle.load(open('datasets/soul_metafeatures', 'rb')),\n",
    "    'grunge': pickle.load(open('datasets/grunge_metafeatures', 'rb')),\n",
    "    'metal': pickle.load(open('datasets/metal_metafeatures', 'rb')),\n",
    "    'meditation': pickle.load(open('datasets/meditation_metafeatures', 'rb')),\n",
    "    'k-pop': pickle.load(open('datasets/k-pop_metafeatures', 'rb')),\n",
    "    'hardcore': pickle.load(open('datasets/hardcore_metafeatures', 'rb')),\n",
    "    'rock': pickle.load(open('datasets/rock_metafeatures', 'rb')),\n",
    "    'punk': pickle.load(open('datasets/punk_metafeatures', 'rb')),\n",
    "    'jazz': pickle.load(open('datasets/jazz_metafeatures', 'rb')),\n",
    "    'funk': pickle.load(open('datasets/funk_metafeatures', 'rb')),\n",
    "    'vaporwave': pickle.load(open('datasets/vaporwave_metafeatures', 'rb')),\n",
    "    'classical': pickle.load(open('datasets/classical_metafeatures', 'rb')),\n",
    "    'hiphop': pickle.load(open('datasets/hiphop_metafeatures', 'rb')),\n",
    "    'house': pickle.load(open('datasets/house_metafeatures', 'rb')),\n",
    "})"
   ]
  },
  {
   "cell_type": "markdown",
   "metadata": {},
   "source": [
    "# Multiprocessing"
   ]
  },
  {
   "cell_type": "code",
   "execution_count": 104,
   "metadata": {
    "collapsed": false
   },
   "outputs": [],
   "source": [
    "from multiprocessing import Pool\n",
    "kpop_metafeatures = pickle.load(open('datasets/funk_metafeatures', 'rb'))\n",
    "column_names = list(kpop_matrix)\n",
    "kpop_matrix = kpop_metafeatures.as_matrix()\n"
   ]
  },
  {
   "cell_type": "code",
   "execution_count": 101,
   "metadata": {
    "collapsed": true
   },
   "outputs": [],
   "source": [
    "# split a list in num amount of equally long sublists.\n",
    "def chunkIt(seq, num):\n",
    "    avg = len(seq) / float(num)\n",
    "    out = []\n",
    "    last = 0.0\n",
    "    while last < len(seq):\n",
    "        out.append(seq[int(last):int(last + avg)])\n",
    "        last += avg\n",
    "    return out\n",
    "splitted_kpop = chunkIt(kpop_matrix[:18], 4)"
   ]
  },
  {
   "cell_type": "code",
   "execution_count": 102,
   "metadata": {
    "collapsed": false
   },
   "outputs": [
    {
     "data": {
      "text/html": [
       "<div>\n",
       "<style scoped>\n",
       "    .dataframe tbody tr th:only-of-type {\n",
       "        vertical-align: middle;\n",
       "    }\n",
       "\n",
       "    .dataframe tbody tr th {\n",
       "        vertical-align: top;\n",
       "    }\n",
       "\n",
       "    .dataframe thead th {\n",
       "        text-align: right;\n",
       "    }\n",
       "</style>\n",
       "<table border=\"1\" class=\"dataframe\">\n",
       "  <thead>\n",
       "    <tr style=\"text-align: right;\">\n",
       "      <th></th>\n",
       "      <th>type</th>\n",
       "      <th>id</th>\n",
       "      <th>uri</th>\n",
       "      <th>track_href</th>\n",
       "      <th>analysis_url</th>\n",
       "    </tr>\n",
       "  </thead>\n",
       "  <tbody>\n",
       "    <tr>\n",
       "      <th>0</th>\n",
       "      <td>audio_features</td>\n",
       "      <td>300RfAPZ57B0y6YYj9n6DN</td>\n",
       "      <td>spotify:track:300RfAPZ57B0y6YYj9n6DN</td>\n",
       "      <td>https://api.spotify.com/v1/tracks/300RfAPZ57B0...</td>\n",
       "      <td>https://api.spotify.com/v1/audio-analysis/300R...</td>\n",
       "    </tr>\n",
       "    <tr>\n",
       "      <th>1</th>\n",
       "      <td>audio_features</td>\n",
       "      <td>6ztstiyZL6FXzh4aG46ZPD</td>\n",
       "      <td>spotify:track:6ztstiyZL6FXzh4aG46ZPD</td>\n",
       "      <td>https://api.spotify.com/v1/tracks/6ztstiyZL6FX...</td>\n",
       "      <td>https://api.spotify.com/v1/audio-analysis/6zts...</td>\n",
       "    </tr>\n",
       "    <tr>\n",
       "      <th>2</th>\n",
       "      <td>audio_features</td>\n",
       "      <td>5nNmj1cLH3r4aA4XDJ2bgY</td>\n",
       "      <td>spotify:track:5nNmj1cLH3r4aA4XDJ2bgY</td>\n",
       "      <td>https://api.spotify.com/v1/tracks/5nNmj1cLH3r4...</td>\n",
       "      <td>https://api.spotify.com/v1/audio-analysis/5nNm...</td>\n",
       "    </tr>\n",
       "    <tr>\n",
       "      <th>3</th>\n",
       "      <td>audio_features</td>\n",
       "      <td>54X78diSLoUDI3joC2bjMz</td>\n",
       "      <td>spotify:track:54X78diSLoUDI3joC2bjMz</td>\n",
       "      <td>https://api.spotify.com/v1/tracks/54X78diSLoUD...</td>\n",
       "      <td>https://api.spotify.com/v1/audio-analysis/54X7...</td>\n",
       "    </tr>\n",
       "  </tbody>\n",
       "</table>\n",
       "</div>"
      ],
      "text/plain": [
       "             type                      id  \\\n",
       "0  audio_features  300RfAPZ57B0y6YYj9n6DN   \n",
       "1  audio_features  6ztstiyZL6FXzh4aG46ZPD   \n",
       "2  audio_features  5nNmj1cLH3r4aA4XDJ2bgY   \n",
       "3  audio_features  54X78diSLoUDI3joC2bjMz   \n",
       "\n",
       "                                    uri  \\\n",
       "0  spotify:track:300RfAPZ57B0y6YYj9n6DN   \n",
       "1  spotify:track:6ztstiyZL6FXzh4aG46ZPD   \n",
       "2  spotify:track:5nNmj1cLH3r4aA4XDJ2bgY   \n",
       "3  spotify:track:54X78diSLoUDI3joC2bjMz   \n",
       "\n",
       "                                          track_href  \\\n",
       "0  https://api.spotify.com/v1/tracks/300RfAPZ57B0...   \n",
       "1  https://api.spotify.com/v1/tracks/6ztstiyZL6FX...   \n",
       "2  https://api.spotify.com/v1/tracks/5nNmj1cLH3r4...   \n",
       "3  https://api.spotify.com/v1/tracks/54X78diSLoUD...   \n",
       "\n",
       "                                        analysis_url  \n",
       "0  https://api.spotify.com/v1/audio-analysis/300R...  \n",
       "1  https://api.spotify.com/v1/audio-analysis/6zts...  \n",
       "2  https://api.spotify.com/v1/audio-analysis/5nNm...  \n",
       "3  https://api.spotify.com/v1/audio-analysis/54X7...  "
      ]
     },
     "execution_count": 102,
     "metadata": {},
     "output_type": "execute_result"
    }
   ],
   "source": [
    "for num, elem in enumerate(splitted_kpop):\n",
    "    splitted_kpop[num] = pd.DataFrame(elem, columns=column_names)\n",
    "splitted_kpop[0]"
   ]
  },
  {
   "cell_type": "code",
   "execution_count": 103,
   "metadata": {
    "collapsed": false
   },
   "outputs": [
    {
     "data": {
      "text/plain": [
       "['\\n\\nThis work is called the Critique of Practical Reason, not of the pure practical reason, although its parallelism with the speculative critique would seem to require the latter term. The reason of this appears sufficiently from the treatise itself. Its business is to show that there is pure practical reason, and for this purpose it criticizes the entire practical faculty of reason. If it succeeds in this, it has no need to criticize the pure faculty itself in order to see whether reason in making such a claim does not presumptuously overstep itself (as is the case with the speculative reason). For if, as pure reason, it is actually practical, it proves its own reality and that of its concepts by fact, and all disputation against the possibility of its being real is futile.\\n\\nWith this faculty, transcendental freedom is also established; freedom, namely, in that absolute sense in which speculative reason required it in its use of the concept of causality in order to escape the antinomy into which it inevitably falls, when in the chain of cause and effect it tries to think the unconditioned. Speculative reason could only exhibit this concept (of freedom) problematically as not impossible to thought, without assuring it any objective reality, and merely lest the supposed impossibility of what it must at least allow to be thinkable should endanger its very being and plunge it into an abyss of scepticism.\\n\\nInasmuch as the reality of the concept of freedom is proved by an apodeictic law of practical reason, it is the keystone of the whole system of pure reason, even the speculative, and all other concepts (those of God and immortality) which, as being mere ideas, remain in it unsupported, now attach themselves to this concept, and by it obtain consistence and objective reality; that is to say, their possibility is proved by the fact that freedom actually exists, for this idea is revealed by the moral law.\\n\\nFreedom, however, is the only one of all the ideas of the speculative reason of which we know the possibility a priori (without, however, understanding it), because it is the condition of the moral law which we know. * The ideas of God and immortality, however, are not conditions of the moral law, but only conditions of the necessary object of a will determined by this law; that is to say, conditions of the practical use of our pure reason. Hence, with respect to these ideas, we cannot affirm that we know and understand, I will not say the actuality, but even the possibility of them. However they are the conditions of the application of the morally determined will to its object, which is given to it a priori, viz., the summum bonum. Consequently in this practical point of view their possibility must be assumed, although we cannot theoretically know and understand it. To justify this assumption it is sufficient, in a practical point of view, that they contain no intrinsic impossibility (contradiction). Here we have what, as far as speculative reason is concerned, is a merely subjective principle of assent, which, however, is objectively valid for a reason equally pure but practical, and this principle, by means of the concept of freedom, assures objective reality and authority to the ideas of God and immortality. Nay, there is a subjective necessity (a need of pure reason) to assume them. Nevertheless the theoretical knowledge of reason is not hereby enlarged, but only the possibility is given, which heretofore was merely a problem and now becomes assertion, and thus the practical use of reason is connected with the elements of theoretical reason. And this need is not a merely hypothetical one for the arbitrary purposes of speculation, that we must assume something if we wish in speculation to carry reason to its utmost limits, but it is a need which has the force of law to assume something without which that cannot be which we must inevitably set before us as the aim of our action.\\n\\n* Lest any one should imagine that he finds an inconsistency here when I call freedom the condition of the moral law, and hereafter maintain in the treatise itself that the moral law is the condition under which we can first become conscious of freedom, I will merely remark that freedom is the ratio essendi of the moral law, while the moral law is the ratio cognoscendi of freedom. For Pad not the moral law been previously distinctly thought in our reason, we should never consider ourselves justified in assuming such a thing as freedom, although it be not contradictory. But were there no freedom it would be impossible to trace the moral law in ourselves at all.\\n\\nIt would certainly be more satisfactory to our speculative reason if it could solve these problems for itself without this circuit and preserve the solution for practical use as a thing to be referred to, but in fact our faculty of speculation is not so well provided. Those who boast of such high knowledge ought not to keep it back, but to exhibit it publicly that it may be tested and appreciated. They want to prove: very good, let them prove; and the critical philosophy lays its arms at their feet as the victors. Quid statis? Nolint. Atqui licet esse beatis. As they then do not in fact choose to do so, probably because they cannot, we must take up these arms again in order to seek in the mortal use of reason, and to base on this, the notions of God, freedom, and immortality, the possibility of which speculation cannot adequately prove.\\n\\nHere first is explained the enigma of the critical philosophy, viz.: how we deny objective reality to the supersensible use of the categories in speculation and yet admit this reality with respect to the objects of pure practical reason. This must at first seem inconsistent as long as this practical use is only nominally known. But when, by a thorough analysis of it, one becomes aware that the reality spoken of does not imply any theoretical determination of the categories and extension of our knowledge to the supersensible; but that what is meant is that in this respect an object belongs to them, because either they are contained in the necessary determination of the will a priori, or are inseparably connected with its object; then this inconsistency disappears, because the use we make of these concepts is different from what speculative reason requires. On the other hand, there now appears an unexpected and very satisfactory proof of the consistency of the speculative critical philosophy. For whereas it insisted that the objects of experience as such, including our own subject, have only the value of phenomena, while at the same time things in themselves must be supposed as their basis, so that not everything supersensible was to be regarded as a fiction and its concept as empty; so now practical reason itself, without any concert with the speculative, assures reality to a supersensible object of the category of causality, viz., freedom, although (as becomes a practical concept) only for practical use; and this establishes on the evidence of a fact that which in the former case could only be conceived. By this the strange but certain doctrine of the speculative critical philosophy, that the thinking subject is to itself in internal intuition only a phenomenon, obtains in the critical examination of the practical reason its full confirmation, and that so thoroughly that we should be compelled to adopt this doctrine, even if the former had never proved it at all. *\\n\\n* The union of causality as freedom with causality as rational mechanism, the former established by the moral law, the latter by the law of nature in the same subject, namely, man, is impossible, unless we conceive him with reference to the former as a being in himself, and with reference to the latter as a phenomenon- the former in pure consciousness, the latter in empirical consciousness. Otherwise reason inevitably contradicts itself.\\n\\nBy this also I can understand why the most considerable objections which I have as yet met with against the Critique turn about these two points, namely, on the one side, the objective reality of the categories as applied to noumena, which is in the theoretical department of knowledge denied, in the practical affirmed; and on the other side, the paradoxical demand to regard oneself qua subject of freedom as a noumenon, and at the same time from the point of view of physical nature as a phenomenon in one\\'s own empirical consciousness; for as long as one has formed no definite notions of morality and freedom, one could not conjecture on the one side what was intended to be the noumenon, the basis of the alleged phenomenon, and on the other side it seemed doubtful whether it was at all possible to form any notion of it, seeing that we had previously assigned all the notions of the pure understanding in its theoretical use exclusively to phenomena. Nothing but a detailed criticism of the practical reason can remove all this misapprehension and set in a clear light the consistency which constitutes its greatest merit.\\n\\nSo much by way of justification of the proceeding by which, in this work, the notions and principles of pure speculative reason which have already undergone their special critical examination are, now and then, again subjected to examination. This would not in other cases be in accordance with the systematic process by which a science is established, since matters which have been decided ought only to be cited and not again discussed. In this case, however, it was not only allowable but necessary, because reason is here considered in transition to a different use of these concepts from what it had made of them before. Such a transition necessitates a comparison of the old and the new usage, in order to distinguish well the new path from the old one and, at the same time, to allow their connection to be observed. Accordingly considerations of this kind, including those which are once more directed to the concept of freedom in the practical use of the pure reason, must not be regarded as an interpolation serving only to fill up the gaps in the critical system of speculative reason (for this is for its own purpose complete), or like the props and buttresses which in a hastily constructed building are often added afterwards; but as true members which make the connexion of the system plain, and show us concepts, here presented as real, which there could only be presented problematically. This remark applies especially to the concept of freedom, respecting which one cannot but observe with surprise that so many boast of being able to understand it quite well and to explain its possibility, while they regard it only psychologically, whereas if they had studied it in a transcendental point of view, they must have recognized that it is not only indispensable as a problematical concept, in the complete use of speculative reason, but also quite incomprehensible; and if they afterwards came to consider its practical use, they must needs have come to the very mode of determining the principles of this, to which they are now so loth to assent. The concept of freedom is the stone of stumbling for all empiricists, but at the same time the key to the loftiest practical principles for critical moralists, who perceive by its means that they must necessarily proceed by a rational method. For this reason I beg the reader not to pass lightly over what is said of this concept at the end of the Analytic.\\n\\nI must leave it to those who are acquainted with works of this kind to judge whether such a system as that of the practical reason, which is here developed from the critical examination of it, has cost much or little trouble, especially in seeking not to miss the true point of view from which the whole can be rightly sketched. It presupposes, indeed, the Fundamental Principles of the Metaphysic of Morals, but only in so far as this gives a preliminary acquaintance with the principle of duty, and assigns and justifies a definite formula thereof; in other respects it is independent. * It results from the nature of this practical faculty itself that the complete classification of all practical sciences cannot be added, as in the critique of the speculative reason. For it is not possible to define duties specially, as human duties, with a view to their classification, until the subject of this definition (viz., man) is known according to his actual nature, at least so far as is necessary with respect to duty; this, however, does not belong to a critical examination of the practical reason, the business of which is only to assign in a complete manner the principles of its possibility, extent, and limits, without special reference to human nature. The classification then belongs to the system of science, not to the system of criticism.\\n\\n* A reviewer who wanted to find some fault with this work has hit the truth better, perhaps, than he thought, when he says that no new principle of morality is set forth in it, but only a new formula. But who would think of introducing a new principle of all morality and making himself as it were the first discoverer of it, just as if all the world before him were ignorant what duty was or had been in thorough-going error? But whoever knows of what importance to a mathematician a formula is, which defines accurately what is to be done to work a problem, will not think that a formula is insignificant and useless which does the same for all duty in general.\\n\\nIn the second part of the Analytic I have given, as I trust, a sufficient answer to the objection of a truth-loving and acute critic * of the Fundamental Principles of the Metaphysic of Morals- a critic always worthy of respect- the objection, namely, that the notion of good was not established before the moral principle, as he thinks it ought to have been. *(2) I have also had regard to many of the objections which have reached me from men who show that they have at heart the discovery of the truth, and I shall continue to do so (for those who have only their old system before their eyes, and who have already settled what is to be approved or disapproved, do not desire any explanation which might stand in the way of their own private opinion.)\\n\\n* \\n\\n*(2) It might also have been objected to me that I have not first defined the notion of the faculty of desire, or of the feeling of Pleasure, although this reproach would be unfair, because this definition might reasonably be presupposed as given in psychology. However, the definition there given might be such as to found the determination of the faculty of desire on the feeling of pleasure (as is commonly done), and thus the supreme principle of practical philosophy would be necessarily made empirical, which, however, remains to be proved and in this critique is altogether refuted. It will, therefore, give this definition here in such a manner as it ought to be given, in order to leave this contested point open at the beginning, as it should be. LIFE is the faculty a being has of acting according to laws of the faculty of desire. The faculty of DESIRE is the being\\'s faculty of becoming by means of its ideas the cause of the actual existence of the objects of these ideas. PLEASURE is the idea of the agreement of the object, or the action with the subjective conditions of life, i.e., with the faculty of causality of an idea in respect of the actuality of its object (or with the determination of the forces of the subject to action which produces it). I have no further need for the purposes of this critique of notions borrowed from psychology; the critique itself supplies the rest. It is easily seen that the question whether the faculty of desire is always based on pleasure, or whether under certain conditions pleasure only follows the determination of desire, is by this definition left undecided, for it is composed only of terms belonging to the pure understanding, i.e., of categories which contain nothing empirical. Such precaution is very desirable in all philosophy and yet is often neglected; namely, not to prejudge questions by adventuring definitions before the notion has been completely analysed, which is often very late. It may be observed through the whole course of the critical philosophy (of the theoretical as well as the practical reason) that frequent opportunity offers of supplying defects in the old dogmatic method of philosophy, and of correcting errors which are not observed until we make such rational use of these notions viewing them as a whole.\\n\\nWhen we have to study a particular faculty of the human mind in its sources, its content, and its limits; then from the nature of human knowledge we must begin with its parts, with an accurate and complete exposition of them; complete, namely, so far as is possible in the present state of our knowledge of its elements. But there is another thing to be attended to which is of a more philosophical and architectonic character, namely, to grasp correctly the idea of the whole, and from thence to get a view of all those parts as mutually related by the aid of pure reason, and by means of their derivation from the concept of the whole. This is only possible through the most intimate acquaintance with the system; and those who find the first inquiry too troublesome, and do not think it worth their while to attain such an acquaintance, cannot reach the second stage, namely, the general view, which is a synthetical return to that which had previously been given analytically. It is no wonder then if they find inconsistencies everywhere, although the gaps which these indicate are not in the system itself, but in their own incoherent train of thought.\\n\\nI have no fear, as regards this treatise, of the reproach that I wish to introduce a new language, since the sort of knowledge here in question has itself somewhat of an everyday character. Nor even in the case of the former critique could this reproach occur to anyone who had thought it through and not merely turned over the leaves. To invent new words where the language has no lack of expressions for given notions is a childish effort to distinguish oneself from the crowd, if not by new and true thoughts, yet by new patches on the old garment. If, therefore, the readers of that work know any more familiar expressions which are as suitable to the thought as those seem to me to be, or if they think they can show the futility of these thoughts themselves and hence that of the expression, they would, in the first case, very much oblige me, for I only desire to be understood: and, in the second case, they would deserve well of philosophy. But, as long as these thoughts stand, I very much doubt that suitable and yet more common expressions for them can be found. *\\n\\n* I am more afraid in the present treatise of occasional misconception in respect of some expressions which I have chosen with the greatest care in order that the notion to which they point may not be missed. Thus, in the table of categories of the Practical reason under the title of Modality, the Permitted, and forbidden (in a practical objective point of view, possible and impossible) have almost the same meaning in common language as the next category, duty and contrary to duty. Here, however, the former means what coincides with, or contradicts, a merely possible practical precept (for example, the solution of all problems of geometry and mechanics); the latter, what is similarly related to a law actually present in the reason; and this distinction is not quite foreign even to common language, although somewhat unusual. For example, it is forbidden to an orator, as such, to forge new words or constructions; in a certain degree this is permitted to a poet; in neither case is there any question of duty. For if anyone chooses to forfeit his reputation as an orator, no one can prevent him. We have here only to do with the distinction of imperatives into problematical, assertorial, and apodeictic. Similarly in the note in which I have pared the moral ideas of practical perfection in different philosophical schools, I have distinguished the idea of wisdom from that of holiness, although I have stated that essentially and objectively they are the same. But in that place I understand by the former only that wisdom to which man (the Stoic) lays claim; therefore I take it subjectively as an attribute alleged to belong to man. (Perhaps the expression virtue, with which also the made great show, would better mark the characteristic of his school.) The expression of a postulate of pure practical reason might give most occasion to misapprehension in case the reader confounded it with the signification of the postulates in pure mathematics, which carry apodeictic certainty with them. These, however, postulate the possibility of an action, the object of which has been previously recognized a priori in theory as possible, and that with perfect certainty. But the former postulates the possibility of an object itself (God and the immortality of the soul) from apodeictic practical laws, and therefore only for the purposes of a practical reason. This certainty of the postulated possibility then is not at all theoretic, and consequently not apodeictic; that is to say, it is not a known necessity as regards the object, but a necessary supposition as regards the subject, necessary for the obedience to its objective but practical laws. It is, therefore, merely a necessary hypothesis. I could find no better expression for this rational necessity, which is subjective, but yet true and unconditional.\\n\\nIn this manner, then, the a priori principles of two faculties of the mind, the faculty of cognition and that of desire, would be found and determined as to the conditions, extent, and limits of their use, and thus a sure foundation be paid for a scientific system of philosophy, both theoretic and practical.\\n\\nNothing worse could happen to these labours than that anyone should make the unexpected discovery that there neither is, nor can be, any a priori knowledge at all. But there is no danger of this. This would be the same thing as if one sought to prove by reason that there is no reason. For we only say that we know something by reason, when we are conscious that we could have known it, even if it had not been given to us in experience; hence rational knowledge and knowledge a priori are one and the same. It is a clear contradiction to try to extract necessity from a principle of experience (ex pumice aquam), and to try by this to give a judgement true universality (without which there is no rational inference, not even inference from analogy, which is at least a presumed universality and objective necessity). To substitute subjective necessity, that is, custom, for objective, which exists only in a priori judgements, is to deny to reason the power of judging about the object, i.e., of knowing it, and what belongs to it. It implies, for example, that we must not say of something which often or always follows a certain antecedent state that we can conclude from this to that (for this would imply objective necessity and the notion of an a priori connexion), but only that we may expect similar cases (just as animals do), that is that we reject the notion of cause altogether as false and a mere delusion. As to attempting to remedy this want of objective and consequently universal validity by saying that we can see no ground for attributing any other sort of knowledge to other rational beings, if this reasoning were valid, our ignorance would do more for the enlargement of our knowledge than all our meditation. For, then, on this very ground that we have no knowledge of any other rational beings besides man, we should have a right to suppose them to be of the same nature as we know ourselves to be: that is, we should really know them. I omit to mention that universal assent does not prove the objective validity of a judgement (i.e., its validity as a cognition), and although this universal assent should accidentally happen, it could furnish no proof of agreement with the object; on the contrary, it is the objective validity which alone constitutes the basis of a necessary universal consent.\\n\\nHume would be quite satisfied with this system of universal empiricism, for, as is well known, he desired nothing more than that, instead of ascribing any objective meaning to the necessity in the concept of cause, a merely subjective one should be assumed, viz., custom, in order to deny that reason could judge about God, freedom, and immortality; and if once his principles were granted, he was certainly well able to deduce his conclusions therefrom, with all logical coherence. But even Hume did not make his empiricism so universal as to include mathematics. He holds the principles of mathematics to be analytical; and if his were correct, they would certainly be apodeictic also: but we could not infer from this that reason has the faculty of forming apodeictic judgements in philosophy also- that is to say, those which are synthetical judgements, like the judgement of causality. But if we adopt a universal empiricism, then mathematics will be included.\\n\\nNow if this science is in contradiction with a reason that admits only empirical principles, as it inevitably is in the antinomy in which mathematics prove the infinite divisibility of space, which empiricism cannot admit; then the greatest possible evidence of demonstration is in manifest contradiction with the alleged conclusions from experience, and we are driven to ask, like Cheselden\\'s blind patient, \"Which deceives me, sight or touch?\" (for empiricism is based on a necessity felt, rationalism on a necessity seen). And thus universal empiricism reveals itself as absolute scepticism. It is erroneous to attribute this in such an unqualified sense to Hume, * since he left at least one certain touchstone (which can only be found in a priori principles), although experience consists not only of feelings, but also of judgements.\\n\\n* Names that designate the followers of a sect have always been accompanied with much injustice; just as if one said, \"N is an Idealist.\" For although he not only admits, but even insists, that our ideas of external things have actual objects of external things corresponding to them, yet he holds that the form of the intuition does not depend on them but on the human mind.\\n\\nHowever, as in this philosophical and critical age such empiricism can scarcely be serious, and it is probably put forward only as an intellectual exercise and for the purpose of putting in a clearer light, by contrast, the necessity of rational a priori principles, we can only be grateful to those who employ themselves in this otherwise uninstructive labour.\\n\\n',\n",
       " '\\n\\nThis work is called the Critique of Practical Reason, not of the pure practical reason, although its parallelism with the speculative critique would seem to require the latter term. The reason of this appears sufficiently from the treatise itself. Its business is to show that there is pure practical reason, and for this purpose it criticizes the entire practical faculty of reason. If it succeeds in this, it has no need to criticize the pure faculty itself in order to see whether reason in making such a claim does not presumptuously overstep itself (as is the case with the speculative reason). For if, as pure reason, it is actually practical, it proves its own reality and that of its concepts by fact, and all disputation against the possibility of its being real is futile.\\n\\nWith this faculty, transcendental freedom is also established; freedom, namely, in that absolute sense in which speculative reason required it in its use of the concept of causality in order to escape the antinomy into which it inevitably falls, when in the chain of cause and effect it tries to think the unconditioned. Speculative reason could only exhibit this concept (of freedom) problematically as not impossible to thought, without assuring it any objective reality, and merely lest the supposed impossibility of what it must at least allow to be thinkable should endanger its very being and plunge it into an abyss of scepticism.\\n\\nInasmuch as the reality of the concept of freedom is proved by an apodeictic law of practical reason, it is the keystone of the whole system of pure reason, even the speculative, and all other concepts (those of God and immortality) which, as being mere ideas, remain in it unsupported, now attach themselves to this concept, and by it obtain consistence and objective reality; that is to say, their possibility is proved by the fact that freedom actually exists, for this idea is revealed by the moral law.\\n\\nFreedom, however, is the only one of all the ideas of the speculative reason of which we know the possibility a priori (without, however, understanding it), because it is the condition of the moral law which we know. * The ideas of God and immortality, however, are not conditions of the moral law, but only conditions of the necessary object of a will determined by this law; that is to say, conditions of the practical use of our pure reason. Hence, with respect to these ideas, we cannot affirm that we know and understand, I will not say the actuality, but even the possibility of them. However they are the conditions of the application of the morally determined will to its object, which is given to it a priori, viz., the summum bonum. Consequently in this practical point of view their possibility must be assumed, although we cannot theoretically know and understand it. To justify this assumption it is sufficient, in a practical point of view, that they contain no intrinsic impossibility (contradiction). Here we have what, as far as speculative reason is concerned, is a merely subjective principle of assent, which, however, is objectively valid for a reason equally pure but practical, and this principle, by means of the concept of freedom, assures objective reality and authority to the ideas of God and immortality. Nay, there is a subjective necessity (a need of pure reason) to assume them. Nevertheless the theoretical knowledge of reason is not hereby enlarged, but only the possibility is given, which heretofore was merely a problem and now becomes assertion, and thus the practical use of reason is connected with the elements of theoretical reason. And this need is not a merely hypothetical one for the arbitrary purposes of speculation, that we must assume something if we wish in speculation to carry reason to its utmost limits, but it is a need which has the force of law to assume something without which that cannot be which we must inevitably set before us as the aim of our action.\\n\\n* Lest any one should imagine that he finds an inconsistency here when I call freedom the condition of the moral law, and hereafter maintain in the treatise itself that the moral law is the condition under which we can first become conscious of freedom, I will merely remark that freedom is the ratio essendi of the moral law, while the moral law is the ratio cognoscendi of freedom. For Pad not the moral law been previously distinctly thought in our reason, we should never consider ourselves justified in assuming such a thing as freedom, although it be not contradictory. But were there no freedom it would be impossible to trace the moral law in ourselves at all.\\n\\nIt would certainly be more satisfactory to our speculative reason if it could solve these problems for itself without this circuit and preserve the solution for practical use as a thing to be referred to, but in fact our faculty of speculation is not so well provided. Those who boast of such high knowledge ought not to keep it back, but to exhibit it publicly that it may be tested and appreciated. They want to prove: very good, let them prove; and the critical philosophy lays its arms at their feet as the victors. Quid statis? Nolint. Atqui licet esse beatis. As they then do not in fact choose to do so, probably because they cannot, we must take up these arms again in order to seek in the mortal use of reason, and to base on this, the notions of God, freedom, and immortality, the possibility of which speculation cannot adequately prove.\\n\\nHere first is explained the enigma of the critical philosophy, viz.: how we deny objective reality to the supersensible use of the categories in speculation and yet admit this reality with respect to the objects of pure practical reason. This must at first seem inconsistent as long as this practical use is only nominally known. But when, by a thorough analysis of it, one becomes aware that the reality spoken of does not imply any theoretical determination of the categories and extension of our knowledge to the supersensible; but that what is meant is that in this respect an object belongs to them, because either they are contained in the necessary determination of the will a priori, or are inseparably connected with its object; then this inconsistency disappears, because the use we make of these concepts is different from what speculative reason requires. On the other hand, there now appears an unexpected and very satisfactory proof of the consistency of the speculative critical philosophy. For whereas it insisted that the objects of experience as such, including our own subject, have only the value of phenomena, while at the same time things in themselves must be supposed as their basis, so that not everything supersensible was to be regarded as a fiction and its concept as empty; so now practical reason itself, without any concert with the speculative, assures reality to a supersensible object of the category of causality, viz., freedom, although (as becomes a practical concept) only for practical use; and this establishes on the evidence of a fact that which in the former case could only be conceived. By this the strange but certain doctrine of the speculative critical philosophy, that the thinking subject is to itself in internal intuition only a phenomenon, obtains in the critical examination of the practical reason its full confirmation, and that so thoroughly that we should be compelled to adopt this doctrine, even if the former had never proved it at all. *\\n\\n* The union of causality as freedom with causality as rational mechanism, the former established by the moral law, the latter by the law of nature in the same subject, namely, man, is impossible, unless we conceive him with reference to the former as a being in himself, and with reference to the latter as a phenomenon- the former in pure consciousness, the latter in empirical consciousness. Otherwise reason inevitably contradicts itself.\\n\\nBy this also I can understand why the most considerable objections which I have as yet met with against the Critique turn about these two points, namely, on the one side, the objective reality of the categories as applied to noumena, which is in the theoretical department of knowledge denied, in the practical affirmed; and on the other side, the paradoxical demand to regard oneself qua subject of freedom as a noumenon, and at the same time from the point of view of physical nature as a phenomenon in one\\'s own empirical consciousness; for as long as one has formed no definite notions of morality and freedom, one could not conjecture on the one side what was intended to be the noumenon, the basis of the alleged phenomenon, and on the other side it seemed doubtful whether it was at all possible to form any notion of it, seeing that we had previously assigned all the notions of the pure understanding in its theoretical use exclusively to phenomena. Nothing but a detailed criticism of the practical reason can remove all this misapprehension and set in a clear light the consistency which constitutes its greatest merit.\\n\\nSo much by way of justification of the proceeding by which, in this work, the notions and principles of pure speculative reason which have already undergone their special critical examination are, now and then, again subjected to examination. This would not in other cases be in accordance with the systematic process by which a science is established, since matters which have been decided ought only to be cited and not again discussed. In this case, however, it was not only allowable but necessary, because reason is here considered in transition to a different use of these concepts from what it had made of them before. Such a transition necessitates a comparison of the old and the new usage, in order to distinguish well the new path from the old one and, at the same time, to allow their connection to be observed. Accordingly considerations of this kind, including those which are once more directed to the concept of freedom in the practical use of the pure reason, must not be regarded as an interpolation serving only to fill up the gaps in the critical system of speculative reason (for this is for its own purpose complete), or like the props and buttresses which in a hastily constructed building are often added afterwards; but as true members which make the connexion of the system plain, and show us concepts, here presented as real, which there could only be presented problematically. This remark applies especially to the concept of freedom, respecting which one cannot but observe with surprise that so many boast of being able to understand it quite well and to explain its possibility, while they regard it only psychologically, whereas if they had studied it in a transcendental point of view, they must have recognized that it is not only indispensable as a problematical concept, in the complete use of speculative reason, but also quite incomprehensible; and if they afterwards came to consider its practical use, they must needs have come to the very mode of determining the principles of this, to which they are now so loth to assent. The concept of freedom is the stone of stumbling for all empiricists, but at the same time the key to the loftiest practical principles for critical moralists, who perceive by its means that they must necessarily proceed by a rational method. For this reason I beg the reader not to pass lightly over what is said of this concept at the end of the Analytic.\\n\\nI must leave it to those who are acquainted with works of this kind to judge whether such a system as that of the practical reason, which is here developed from the critical examination of it, has cost much or little trouble, especially in seeking not to miss the true point of view from which the whole can be rightly sketched. It presupposes, indeed, the Fundamental Principles of the Metaphysic of Morals, but only in so far as this gives a preliminary acquaintance with the principle of duty, and assigns and justifies a definite formula thereof; in other respects it is independent. * It results from the nature of this practical faculty itself that the complete classification of all practical sciences cannot be added, as in the critique of the speculative reason. For it is not possible to define duties specially, as human duties, with a view to their classification, until the subject of this definition (viz., man) is known according to his actual nature, at least so far as is necessary with respect to duty; this, however, does not belong to a critical examination of the practical reason, the business of which is only to assign in a complete manner the principles of its possibility, extent, and limits, without special reference to human nature. The classification then belongs to the system of science, not to the system of criticism.\\n\\n* A reviewer who wanted to find some fault with this work has hit the truth better, perhaps, than he thought, when he says that no new principle of morality is set forth in it, but only a new formula. But who would think of introducing a new principle of all morality and making himself as it were the first discoverer of it, just as if all the world before him were ignorant what duty was or had been in thorough-going error? But whoever knows of what importance to a mathematician a formula is, which defines accurately what is to be done to work a problem, will not think that a formula is insignificant and useless which does the same for all duty in general.\\n\\nIn the second part of the Analytic I have given, as I trust, a sufficient answer to the objection of a truth-loving and acute critic * of the Fundamental Principles of the Metaphysic of Morals- a critic always worthy of respect- the objection, namely, that the notion of good was not established before the moral principle, as he thinks it ought to have been. *(2) I have also had regard to many of the objections which have reached me from men who show that they have at heart the discovery of the truth, and I shall continue to do so (for those who have only their old system before their eyes, and who have already settled what is to be approved or disapproved, do not desire any explanation which might stand in the way of their own private opinion.)\\n\\n* \\n\\n*(2) It might also have been objected to me that I have not first defined the notion of the faculty of desire, or of the feeling of Pleasure, although this reproach would be unfair, because this definition might reasonably be presupposed as given in psychology. However, the definition there given might be such as to found the determination of the faculty of desire on the feeling of pleasure (as is commonly done), and thus the supreme principle of practical philosophy would be necessarily made empirical, which, however, remains to be proved and in this critique is altogether refuted. It will, therefore, give this definition here in such a manner as it ought to be given, in order to leave this contested point open at the beginning, as it should be. LIFE is the faculty a being has of acting according to laws of the faculty of desire. The faculty of DESIRE is the being\\'s faculty of becoming by means of its ideas the cause of the actual existence of the objects of these ideas. PLEASURE is the idea of the agreement of the object, or the action with the subjective conditions of life, i.e., with the faculty of causality of an idea in respect of the actuality of its object (or with the determination of the forces of the subject to action which produces it). I have no further need for the purposes of this critique of notions borrowed from psychology; the critique itself supplies the rest. It is easily seen that the question whether the faculty of desire is always based on pleasure, or whether under certain conditions pleasure only follows the determination of desire, is by this definition left undecided, for it is composed only of terms belonging to the pure understanding, i.e., of categories which contain nothing empirical. Such precaution is very desirable in all philosophy and yet is often neglected; namely, not to prejudge questions by adventuring definitions before the notion has been completely analysed, which is often very late. It may be observed through the whole course of the critical philosophy (of the theoretical as well as the practical reason) that frequent opportunity offers of supplying defects in the old dogmatic method of philosophy, and of correcting errors which are not observed until we make such rational use of these notions viewing them as a whole.\\n\\nWhen we have to study a particular faculty of the human mind in its sources, its content, and its limits; then from the nature of human knowledge we must begin with its parts, with an accurate and complete exposition of them; complete, namely, so far as is possible in the present state of our knowledge of its elements. But there is another thing to be attended to which is of a more philosophical and architectonic character, namely, to grasp correctly the idea of the whole, and from thence to get a view of all those parts as mutually related by the aid of pure reason, and by means of their derivation from the concept of the whole. This is only possible through the most intimate acquaintance with the system; and those who find the first inquiry too troublesome, and do not think it worth their while to attain such an acquaintance, cannot reach the second stage, namely, the general view, which is a synthetical return to that which had previously been given analytically. It is no wonder then if they find inconsistencies everywhere, although the gaps which these indicate are not in the system itself, but in their own incoherent train of thought.\\n\\nI have no fear, as regards this treatise, of the reproach that I wish to introduce a new language, since the sort of knowledge here in question has itself somewhat of an everyday character. Nor even in the case of the former critique could this reproach occur to anyone who had thought it through and not merely turned over the leaves. To invent new words where the language has no lack of expressions for given notions is a childish effort to distinguish oneself from the crowd, if not by new and true thoughts, yet by new patches on the old garment. If, therefore, the readers of that work know any more familiar expressions which are as suitable to the thought as those seem to me to be, or if they think they can show the futility of these thoughts themselves and hence that of the expression, they would, in the first case, very much oblige me, for I only desire to be understood: and, in the second case, they would deserve well of philosophy. But, as long as these thoughts stand, I very much doubt that suitable and yet more common expressions for them can be found. *\\n\\n* I am more afraid in the present treatise of occasional misconception in respect of some expressions which I have chosen with the greatest care in order that the notion to which they point may not be missed. Thus, in the table of categories of the Practical reason under the title of Modality, the Permitted, and forbidden (in a practical objective point of view, possible and impossible) have almost the same meaning in common language as the next category, duty and contrary to duty. Here, however, the former means what coincides with, or contradicts, a merely possible practical precept (for example, the solution of all problems of geometry and mechanics); the latter, what is similarly related to a law actually present in the reason; and this distinction is not quite foreign even to common language, although somewhat unusual. For example, it is forbidden to an orator, as such, to forge new words or constructions; in a certain degree this is permitted to a poet; in neither case is there any question of duty. For if anyone chooses to forfeit his reputation as an orator, no one can prevent him. We have here only to do with the distinction of imperatives into problematical, assertorial, and apodeictic. Similarly in the note in which I have pared the moral ideas of practical perfection in different philosophical schools, I have distinguished the idea of wisdom from that of holiness, although I have stated that essentially and objectively they are the same. But in that place I understand by the former only that wisdom to which man (the Stoic) lays claim; therefore I take it subjectively as an attribute alleged to belong to man. (Perhaps the expression virtue, with which also the made great show, would better mark the characteristic of his school.) The expression of a postulate of pure practical reason might give most occasion to misapprehension in case the reader confounded it with the signification of the postulates in pure mathematics, which carry apodeictic certainty with them. These, however, postulate the possibility of an action, the object of which has been previously recognized a priori in theory as possible, and that with perfect certainty. But the former postulates the possibility of an object itself (God and the immortality of the soul) from apodeictic practical laws, and therefore only for the purposes of a practical reason. This certainty of the postulated possibility then is not at all theoretic, and consequently not apodeictic; that is to say, it is not a known necessity as regards the object, but a necessary supposition as regards the subject, necessary for the obedience to its objective but practical laws. It is, therefore, merely a necessary hypothesis. I could find no better expression for this rational necessity, which is subjective, but yet true and unconditional.\\n\\nIn this manner, then, the a priori principles of two faculties of the mind, the faculty of cognition and that of desire, would be found and determined as to the conditions, extent, and limits of their use, and thus a sure foundation be paid for a scientific system of philosophy, both theoretic and practical.\\n\\nNothing worse could happen to these labours than that anyone should make the unexpected discovery that there neither is, nor can be, any a priori knowledge at all. But there is no danger of this. This would be the same thing as if one sought to prove by reason that there is no reason. For we only say that we know something by reason, when we are conscious that we could have known it, even if it had not been given to us in experience; hence rational knowledge and knowledge a priori are one and the same. It is a clear contradiction to try to extract necessity from a principle of experience (ex pumice aquam), and to try by this to give a judgement true universality (without which there is no rational inference, not even inference from analogy, which is at least a presumed universality and objective necessity). To substitute subjective necessity, that is, custom, for objective, which exists only in a priori judgements, is to deny to reason the power of judging about the object, i.e., of knowing it, and what belongs to it. It implies, for example, that we must not say of something which often or always follows a certain antecedent state that we can conclude from this to that (for this would imply objective necessity and the notion of an a priori connexion), but only that we may expect similar cases (just as animals do), that is that we reject the notion of cause altogether as false and a mere delusion. As to attempting to remedy this want of objective and consequently universal validity by saying that we can see no ground for attributing any other sort of knowledge to other rational beings, if this reasoning were valid, our ignorance would do more for the enlargement of our knowledge than all our meditation. For, then, on this very ground that we have no knowledge of any other rational beings besides man, we should have a right to suppose them to be of the same nature as we know ourselves to be: that is, we should really know them. I omit to mention that universal assent does not prove the objective validity of a judgement (i.e., its validity as a cognition), and although this universal assent should accidentally happen, it could furnish no proof of agreement with the object; on the contrary, it is the objective validity which alone constitutes the basis of a necessary universal consent.\\n\\nHume would be quite satisfied with this system of universal empiricism, for, as is well known, he desired nothing more than that, instead of ascribing any objective meaning to the necessity in the concept of cause, a merely subjective one should be assumed, viz., custom, in order to deny that reason could judge about God, freedom, and immortality; and if once his principles were granted, he was certainly well able to deduce his conclusions therefrom, with all logical coherence. But even Hume did not make his empiricism so universal as to include mathematics. He holds the principles of mathematics to be analytical; and if his were correct, they would certainly be apodeictic also: but we could not infer from this that reason has the faculty of forming apodeictic judgements in philosophy also- that is to say, those which are synthetical judgements, like the judgement of causality. But if we adopt a universal empiricism, then mathematics will be included.\\n\\nNow if this science is in contradiction with a reason that admits only empirical principles, as it inevitably is in the antinomy in which mathematics prove the infinite divisibility of space, which empiricism cannot admit; then the greatest possible evidence of demonstration is in manifest contradiction with the alleged conclusions from experience, and we are driven to ask, like Cheselden\\'s blind patient, \"Which deceives me, sight or touch?\" (for empiricism is based on a necessity felt, rationalism on a necessity seen). And thus universal empiricism reveals itself as absolute scepticism. It is erroneous to attribute this in such an unqualified sense to Hume, * since he left at least one certain touchstone (which can only be found in a priori principles), although experience consists not only of feelings, but also of judgements.\\n\\n* Names that designate the followers of a sect have always been accompanied with much injustice; just as if one said, \"N is an Idealist.\" For although he not only admits, but even insists, that our ideas of external things have actual objects of external things corresponding to them, yet he holds that the form of the intuition does not depend on them but on the human mind.\\n\\nHowever, as in this philosophical and critical age such empiricism can scarcely be serious, and it is probably put forward only as an intellectual exercise and for the purpose of putting in a clearer light, by contrast, the necessity of rational a priori principles, we can only be grateful to those who employ themselves in this otherwise uninstructive labour.\\n\\n',\n",
       " '\\n\\nThis work is called the Critique of Practical Reason, not of the pure practical reason, although its parallelism with the speculative critique would seem to require the latter term. The reason of this appears sufficiently from the treatise itself. Its business is to show that there is pure practical reason, and for this purpose it criticizes the entire practical faculty of reason. If it succeeds in this, it has no need to criticize the pure faculty itself in order to see whether reason in making such a claim does not presumptuously overstep itself (as is the case with the speculative reason). For if, as pure reason, it is actually practical, it proves its own reality and that of its concepts by fact, and all disputation against the possibility of its being real is futile.\\n\\nWith this faculty, transcendental freedom is also established; freedom, namely, in that absolute sense in which speculative reason required it in its use of the concept of causality in order to escape the antinomy into which it inevitably falls, when in the chain of cause and effect it tries to think the unconditioned. Speculative reason could only exhibit this concept (of freedom) problematically as not impossible to thought, without assuring it any objective reality, and merely lest the supposed impossibility of what it must at least allow to be thinkable should endanger its very being and plunge it into an abyss of scepticism.\\n\\nInasmuch as the reality of the concept of freedom is proved by an apodeictic law of practical reason, it is the keystone of the whole system of pure reason, even the speculative, and all other concepts (those of God and immortality) which, as being mere ideas, remain in it unsupported, now attach themselves to this concept, and by it obtain consistence and objective reality; that is to say, their possibility is proved by the fact that freedom actually exists, for this idea is revealed by the moral law.\\n\\nFreedom, however, is the only one of all the ideas of the speculative reason of which we know the possibility a priori (without, however, understanding it), because it is the condition of the moral law which we know. * The ideas of God and immortality, however, are not conditions of the moral law, but only conditions of the necessary object of a will determined by this law; that is to say, conditions of the practical use of our pure reason. Hence, with respect to these ideas, we cannot affirm that we know and understand, I will not say the actuality, but even the possibility of them. However they are the conditions of the application of the morally determined will to its object, which is given to it a priori, viz., the summum bonum. Consequently in this practical point of view their possibility must be assumed, although we cannot theoretically know and understand it. To justify this assumption it is sufficient, in a practical point of view, that they contain no intrinsic impossibility (contradiction). Here we have what, as far as speculative reason is concerned, is a merely subjective principle of assent, which, however, is objectively valid for a reason equally pure but practical, and this principle, by means of the concept of freedom, assures objective reality and authority to the ideas of God and immortality. Nay, there is a subjective necessity (a need of pure reason) to assume them. Nevertheless the theoretical knowledge of reason is not hereby enlarged, but only the possibility is given, which heretofore was merely a problem and now becomes assertion, and thus the practical use of reason is connected with the elements of theoretical reason. And this need is not a merely hypothetical one for the arbitrary purposes of speculation, that we must assume something if we wish in speculation to carry reason to its utmost limits, but it is a need which has the force of law to assume something without which that cannot be which we must inevitably set before us as the aim of our action.\\n\\n* Lest any one should imagine that he finds an inconsistency here when I call freedom the condition of the moral law, and hereafter maintain in the treatise itself that the moral law is the condition under which we can first become conscious of freedom, I will merely remark that freedom is the ratio essendi of the moral law, while the moral law is the ratio cognoscendi of freedom. For Pad not the moral law been previously distinctly thought in our reason, we should never consider ourselves justified in assuming such a thing as freedom, although it be not contradictory. But were there no freedom it would be impossible to trace the moral law in ourselves at all.\\n\\nIt would certainly be more satisfactory to our speculative reason if it could solve these problems for itself without this circuit and preserve the solution for practical use as a thing to be referred to, but in fact our faculty of speculation is not so well provided. Those who boast of such high knowledge ought not to keep it back, but to exhibit it publicly that it may be tested and appreciated. They want to prove: very good, let them prove; and the critical philosophy lays its arms at their feet as the victors. Quid statis? Nolint. Atqui licet esse beatis. As they then do not in fact choose to do so, probably because they cannot, we must take up these arms again in order to seek in the mortal use of reason, and to base on this, the notions of God, freedom, and immortality, the possibility of which speculation cannot adequately prove.\\n\\nHere first is explained the enigma of the critical philosophy, viz.: how we deny objective reality to the supersensible use of the categories in speculation and yet admit this reality with respect to the objects of pure practical reason. This must at first seem inconsistent as long as this practical use is only nominally known. But when, by a thorough analysis of it, one becomes aware that the reality spoken of does not imply any theoretical determination of the categories and extension of our knowledge to the supersensible; but that what is meant is that in this respect an object belongs to them, because either they are contained in the necessary determination of the will a priori, or are inseparably connected with its object; then this inconsistency disappears, because the use we make of these concepts is different from what speculative reason requires. On the other hand, there now appears an unexpected and very satisfactory proof of the consistency of the speculative critical philosophy. For whereas it insisted that the objects of experience as such, including our own subject, have only the value of phenomena, while at the same time things in themselves must be supposed as their basis, so that not everything supersensible was to be regarded as a fiction and its concept as empty; so now practical reason itself, without any concert with the speculative, assures reality to a supersensible object of the category of causality, viz., freedom, although (as becomes a practical concept) only for practical use; and this establishes on the evidence of a fact that which in the former case could only be conceived. By this the strange but certain doctrine of the speculative critical philosophy, that the thinking subject is to itself in internal intuition only a phenomenon, obtains in the critical examination of the practical reason its full confirmation, and that so thoroughly that we should be compelled to adopt this doctrine, even if the former had never proved it at all. *\\n\\n* The union of causality as freedom with causality as rational mechanism, the former established by the moral law, the latter by the law of nature in the same subject, namely, man, is impossible, unless we conceive him with reference to the former as a being in himself, and with reference to the latter as a phenomenon- the former in pure consciousness, the latter in empirical consciousness. Otherwise reason inevitably contradicts itself.\\n\\nBy this also I can understand why the most considerable objections which I have as yet met with against the Critique turn about these two points, namely, on the one side, the objective reality of the categories as applied to noumena, which is in the theoretical department of knowledge denied, in the practical affirmed; and on the other side, the paradoxical demand to regard oneself qua subject of freedom as a noumenon, and at the same time from the point of view of physical nature as a phenomenon in one\\'s own empirical consciousness; for as long as one has formed no definite notions of morality and freedom, one could not conjecture on the one side what was intended to be the noumenon, the basis of the alleged phenomenon, and on the other side it seemed doubtful whether it was at all possible to form any notion of it, seeing that we had previously assigned all the notions of the pure understanding in its theoretical use exclusively to phenomena. Nothing but a detailed criticism of the practical reason can remove all this misapprehension and set in a clear light the consistency which constitutes its greatest merit.\\n\\nSo much by way of justification of the proceeding by which, in this work, the notions and principles of pure speculative reason which have already undergone their special critical examination are, now and then, again subjected to examination. This would not in other cases be in accordance with the systematic process by which a science is established, since matters which have been decided ought only to be cited and not again discussed. In this case, however, it was not only allowable but necessary, because reason is here considered in transition to a different use of these concepts from what it had made of them before. Such a transition necessitates a comparison of the old and the new usage, in order to distinguish well the new path from the old one and, at the same time, to allow their connection to be observed. Accordingly considerations of this kind, including those which are once more directed to the concept of freedom in the practical use of the pure reason, must not be regarded as an interpolation serving only to fill up the gaps in the critical system of speculative reason (for this is for its own purpose complete), or like the props and buttresses which in a hastily constructed building are often added afterwards; but as true members which make the connexion of the system plain, and show us concepts, here presented as real, which there could only be presented problematically. This remark applies especially to the concept of freedom, respecting which one cannot but observe with surprise that so many boast of being able to understand it quite well and to explain its possibility, while they regard it only psychologically, whereas if they had studied it in a transcendental point of view, they must have recognized that it is not only indispensable as a problematical concept, in the complete use of speculative reason, but also quite incomprehensible; and if they afterwards came to consider its practical use, they must needs have come to the very mode of determining the principles of this, to which they are now so loth to assent. The concept of freedom is the stone of stumbling for all empiricists, but at the same time the key to the loftiest practical principles for critical moralists, who perceive by its means that they must necessarily proceed by a rational method. For this reason I beg the reader not to pass lightly over what is said of this concept at the end of the Analytic.\\n\\nI must leave it to those who are acquainted with works of this kind to judge whether such a system as that of the practical reason, which is here developed from the critical examination of it, has cost much or little trouble, especially in seeking not to miss the true point of view from which the whole can be rightly sketched. It presupposes, indeed, the Fundamental Principles of the Metaphysic of Morals, but only in so far as this gives a preliminary acquaintance with the principle of duty, and assigns and justifies a definite formula thereof; in other respects it is independent. * It results from the nature of this practical faculty itself that the complete classification of all practical sciences cannot be added, as in the critique of the speculative reason. For it is not possible to define duties specially, as human duties, with a view to their classification, until the subject of this definition (viz., man) is known according to his actual nature, at least so far as is necessary with respect to duty; this, however, does not belong to a critical examination of the practical reason, the business of which is only to assign in a complete manner the principles of its possibility, extent, and limits, without special reference to human nature. The classification then belongs to the system of science, not to the system of criticism.\\n\\n* A reviewer who wanted to find some fault with this work has hit the truth better, perhaps, than he thought, when he says that no new principle of morality is set forth in it, but only a new formula. But who would think of introducing a new principle of all morality and making himself as it were the first discoverer of it, just as if all the world before him were ignorant what duty was or had been in thorough-going error? But whoever knows of what importance to a mathematician a formula is, which defines accurately what is to be done to work a problem, will not think that a formula is insignificant and useless which does the same for all duty in general.\\n\\nIn the second part of the Analytic I have given, as I trust, a sufficient answer to the objection of a truth-loving and acute critic * of the Fundamental Principles of the Metaphysic of Morals- a critic always worthy of respect- the objection, namely, that the notion of good was not established before the moral principle, as he thinks it ought to have been. *(2) I have also had regard to many of the objections which have reached me from men who show that they have at heart the discovery of the truth, and I shall continue to do so (for those who have only their old system before their eyes, and who have already settled what is to be approved or disapproved, do not desire any explanation which might stand in the way of their own private opinion.)\\n\\n* \\n\\n*(2) It might also have been objected to me that I have not first defined the notion of the faculty of desire, or of the feeling of Pleasure, although this reproach would be unfair, because this definition might reasonably be presupposed as given in psychology. However, the definition there given might be such as to found the determination of the faculty of desire on the feeling of pleasure (as is commonly done), and thus the supreme principle of practical philosophy would be necessarily made empirical, which, however, remains to be proved and in this critique is altogether refuted. It will, therefore, give this definition here in such a manner as it ought to be given, in order to leave this contested point open at the beginning, as it should be. LIFE is the faculty a being has of acting according to laws of the faculty of desire. The faculty of DESIRE is the being\\'s faculty of becoming by means of its ideas the cause of the actual existence of the objects of these ideas. PLEASURE is the idea of the agreement of the object, or the action with the subjective conditions of life, i.e., with the faculty of causality of an idea in respect of the actuality of its object (or with the determination of the forces of the subject to action which produces it). I have no further need for the purposes of this critique of notions borrowed from psychology; the critique itself supplies the rest. It is easily seen that the question whether the faculty of desire is always based on pleasure, or whether under certain conditions pleasure only follows the determination of desire, is by this definition left undecided, for it is composed only of terms belonging to the pure understanding, i.e., of categories which contain nothing empirical. Such precaution is very desirable in all philosophy and yet is often neglected; namely, not to prejudge questions by adventuring definitions before the notion has been completely analysed, which is often very late. It may be observed through the whole course of the critical philosophy (of the theoretical as well as the practical reason) that frequent opportunity offers of supplying defects in the old dogmatic method of philosophy, and of correcting errors which are not observed until we make such rational use of these notions viewing them as a whole.\\n\\nWhen we have to study a particular faculty of the human mind in its sources, its content, and its limits; then from the nature of human knowledge we must begin with its parts, with an accurate and complete exposition of them; complete, namely, so far as is possible in the present state of our knowledge of its elements. But there is another thing to be attended to which is of a more philosophical and architectonic character, namely, to grasp correctly the idea of the whole, and from thence to get a view of all those parts as mutually related by the aid of pure reason, and by means of their derivation from the concept of the whole. This is only possible through the most intimate acquaintance with the system; and those who find the first inquiry too troublesome, and do not think it worth their while to attain such an acquaintance, cannot reach the second stage, namely, the general view, which is a synthetical return to that which had previously been given analytically. It is no wonder then if they find inconsistencies everywhere, although the gaps which these indicate are not in the system itself, but in their own incoherent train of thought.\\n\\nI have no fear, as regards this treatise, of the reproach that I wish to introduce a new language, since the sort of knowledge here in question has itself somewhat of an everyday character. Nor even in the case of the former critique could this reproach occur to anyone who had thought it through and not merely turned over the leaves. To invent new words where the language has no lack of expressions for given notions is a childish effort to distinguish oneself from the crowd, if not by new and true thoughts, yet by new patches on the old garment. If, therefore, the readers of that work know any more familiar expressions which are as suitable to the thought as those seem to me to be, or if they think they can show the futility of these thoughts themselves and hence that of the expression, they would, in the first case, very much oblige me, for I only desire to be understood: and, in the second case, they would deserve well of philosophy. But, as long as these thoughts stand, I very much doubt that suitable and yet more common expressions for them can be found. *\\n\\n* I am more afraid in the present treatise of occasional misconception in respect of some expressions which I have chosen with the greatest care in order that the notion to which they point may not be missed. Thus, in the table of categories of the Practical reason under the title of Modality, the Permitted, and forbidden (in a practical objective point of view, possible and impossible) have almost the same meaning in common language as the next category, duty and contrary to duty. Here, however, the former means what coincides with, or contradicts, a merely possible practical precept (for example, the solution of all problems of geometry and mechanics); the latter, what is similarly related to a law actually present in the reason; and this distinction is not quite foreign even to common language, although somewhat unusual. For example, it is forbidden to an orator, as such, to forge new words or constructions; in a certain degree this is permitted to a poet; in neither case is there any question of duty. For if anyone chooses to forfeit his reputation as an orator, no one can prevent him. We have here only to do with the distinction of imperatives into problematical, assertorial, and apodeictic. Similarly in the note in which I have pared the moral ideas of practical perfection in different philosophical schools, I have distinguished the idea of wisdom from that of holiness, although I have stated that essentially and objectively they are the same. But in that place I understand by the former only that wisdom to which man (the Stoic) lays claim; therefore I take it subjectively as an attribute alleged to belong to man. (Perhaps the expression virtue, with which also the made great show, would better mark the characteristic of his school.) The expression of a postulate of pure practical reason might give most occasion to misapprehension in case the reader confounded it with the signification of the postulates in pure mathematics, which carry apodeictic certainty with them. These, however, postulate the possibility of an action, the object of which has been previously recognized a priori in theory as possible, and that with perfect certainty. But the former postulates the possibility of an object itself (God and the immortality of the soul) from apodeictic practical laws, and therefore only for the purposes of a practical reason. This certainty of the postulated possibility then is not at all theoretic, and consequently not apodeictic; that is to say, it is not a known necessity as regards the object, but a necessary supposition as regards the subject, necessary for the obedience to its objective but practical laws. It is, therefore, merely a necessary hypothesis. I could find no better expression for this rational necessity, which is subjective, but yet true and unconditional.\\n\\nIn this manner, then, the a priori principles of two faculties of the mind, the faculty of cognition and that of desire, would be found and determined as to the conditions, extent, and limits of their use, and thus a sure foundation be paid for a scientific system of philosophy, both theoretic and practical.\\n\\nNothing worse could happen to these labours than that anyone should make the unexpected discovery that there neither is, nor can be, any a priori knowledge at all. But there is no danger of this. This would be the same thing as if one sought to prove by reason that there is no reason. For we only say that we know something by reason, when we are conscious that we could have known it, even if it had not been given to us in experience; hence rational knowledge and knowledge a priori are one and the same. It is a clear contradiction to try to extract necessity from a principle of experience (ex pumice aquam), and to try by this to give a judgement true universality (without which there is no rational inference, not even inference from analogy, which is at least a presumed universality and objective necessity). To substitute subjective necessity, that is, custom, for objective, which exists only in a priori judgements, is to deny to reason the power of judging about the object, i.e., of knowing it, and what belongs to it. It implies, for example, that we must not say of something which often or always follows a certain antecedent state that we can conclude from this to that (for this would imply objective necessity and the notion of an a priori connexion), but only that we may expect similar cases (just as animals do), that is that we reject the notion of cause altogether as false and a mere delusion. As to attempting to remedy this want of objective and consequently universal validity by saying that we can see no ground for attributing any other sort of knowledge to other rational beings, if this reasoning were valid, our ignorance would do more for the enlargement of our knowledge than all our meditation. For, then, on this very ground that we have no knowledge of any other rational beings besides man, we should have a right to suppose them to be of the same nature as we know ourselves to be: that is, we should really know them. I omit to mention that universal assent does not prove the objective validity of a judgement (i.e., its validity as a cognition), and although this universal assent should accidentally happen, it could furnish no proof of agreement with the object; on the contrary, it is the objective validity which alone constitutes the basis of a necessary universal consent.\\n\\nHume would be quite satisfied with this system of universal empiricism, for, as is well known, he desired nothing more than that, instead of ascribing any objective meaning to the necessity in the concept of cause, a merely subjective one should be assumed, viz., custom, in order to deny that reason could judge about God, freedom, and immortality; and if once his principles were granted, he was certainly well able to deduce his conclusions therefrom, with all logical coherence. But even Hume did not make his empiricism so universal as to include mathematics. He holds the principles of mathematics to be analytical; and if his were correct, they would certainly be apodeictic also: but we could not infer from this that reason has the faculty of forming apodeictic judgements in philosophy also- that is to say, those which are synthetical judgements, like the judgement of causality. But if we adopt a universal empiricism, then mathematics will be included.\\n\\nNow if this science is in contradiction with a reason that admits only empirical principles, as it inevitably is in the antinomy in which mathematics prove the infinite divisibility of space, which empiricism cannot admit; then the greatest possible evidence of demonstration is in manifest contradiction with the alleged conclusions from experience, and we are driven to ask, like Cheselden\\'s blind patient, \"Which deceives me, sight or touch?\" (for empiricism is based on a necessity felt, rationalism on a necessity seen). And thus universal empiricism reveals itself as absolute scepticism. It is erroneous to attribute this in such an unqualified sense to Hume, * since he left at least one certain touchstone (which can only be found in a priori principles), although experience consists not only of feelings, but also of judgements.\\n\\n* Names that designate the followers of a sect have always been accompanied with much injustice; just as if one said, \"N is an Idealist.\" For although he not only admits, but even insists, that our ideas of external things have actual objects of external things corresponding to them, yet he holds that the form of the intuition does not depend on them but on the human mind.\\n\\nHowever, as in this philosophical and critical age such empiricism can scarcely be serious, and it is probably put forward only as an intellectual exercise and for the purpose of putting in a clearer light, by contrast, the necessity of rational a priori principles, we can only be grateful to those who employ themselves in this otherwise uninstructive labour.\\n\\n',\n",
       " '\\n\\nThis work is called the Critique of Practical Reason, not of the pure practical reason, although its parallelism with the speculative critique would seem to require the latter term. The reason of this appears sufficiently from the treatise itself. Its business is to show that there is pure practical reason, and for this purpose it criticizes the entire practical faculty of reason. If it succeeds in this, it has no need to criticize the pure faculty itself in order to see whether reason in making such a claim does not presumptuously overstep itself (as is the case with the speculative reason). For if, as pure reason, it is actually practical, it proves its own reality and that of its concepts by fact, and all disputation against the possibility of its being real is futile.\\n\\nWith this faculty, transcendental freedom is also established; freedom, namely, in that absolute sense in which speculative reason required it in its use of the concept of causality in order to escape the antinomy into which it inevitably falls, when in the chain of cause and effect it tries to think the unconditioned. Speculative reason could only exhibit this concept (of freedom) problematically as not impossible to thought, without assuring it any objective reality, and merely lest the supposed impossibility of what it must at least allow to be thinkable should endanger its very being and plunge it into an abyss of scepticism.\\n\\nInasmuch as the reality of the concept of freedom is proved by an apodeictic law of practical reason, it is the keystone of the whole system of pure reason, even the speculative, and all other concepts (those of God and immortality) which, as being mere ideas, remain in it unsupported, now attach themselves to this concept, and by it obtain consistence and objective reality; that is to say, their possibility is proved by the fact that freedom actually exists, for this idea is revealed by the moral law.\\n\\nFreedom, however, is the only one of all the ideas of the speculative reason of which we know the possibility a priori (without, however, understanding it), because it is the condition of the moral law which we know. * The ideas of God and immortality, however, are not conditions of the moral law, but only conditions of the necessary object of a will determined by this law; that is to say, conditions of the practical use of our pure reason. Hence, with respect to these ideas, we cannot affirm that we know and understand, I will not say the actuality, but even the possibility of them. However they are the conditions of the application of the morally determined will to its object, which is given to it a priori, viz., the summum bonum. Consequently in this practical point of view their possibility must be assumed, although we cannot theoretically know and understand it. To justify this assumption it is sufficient, in a practical point of view, that they contain no intrinsic impossibility (contradiction). Here we have what, as far as speculative reason is concerned, is a merely subjective principle of assent, which, however, is objectively valid for a reason equally pure but practical, and this principle, by means of the concept of freedom, assures objective reality and authority to the ideas of God and immortality. Nay, there is a subjective necessity (a need of pure reason) to assume them. Nevertheless the theoretical knowledge of reason is not hereby enlarged, but only the possibility is given, which heretofore was merely a problem and now becomes assertion, and thus the practical use of reason is connected with the elements of theoretical reason. And this need is not a merely hypothetical one for the arbitrary purposes of speculation, that we must assume something if we wish in speculation to carry reason to its utmost limits, but it is a need which has the force of law to assume something without which that cannot be which we must inevitably set before us as the aim of our action.\\n\\n* Lest any one should imagine that he finds an inconsistency here when I call freedom the condition of the moral law, and hereafter maintain in the treatise itself that the moral law is the condition under which we can first become conscious of freedom, I will merely remark that freedom is the ratio essendi of the moral law, while the moral law is the ratio cognoscendi of freedom. For Pad not the moral law been previously distinctly thought in our reason, we should never consider ourselves justified in assuming such a thing as freedom, although it be not contradictory. But were there no freedom it would be impossible to trace the moral law in ourselves at all.\\n\\nIt would certainly be more satisfactory to our speculative reason if it could solve these problems for itself without this circuit and preserve the solution for practical use as a thing to be referred to, but in fact our faculty of speculation is not so well provided. Those who boast of such high knowledge ought not to keep it back, but to exhibit it publicly that it may be tested and appreciated. They want to prove: very good, let them prove; and the critical philosophy lays its arms at their feet as the victors. Quid statis? Nolint. Atqui licet esse beatis. As they then do not in fact choose to do so, probably because they cannot, we must take up these arms again in order to seek in the mortal use of reason, and to base on this, the notions of God, freedom, and immortality, the possibility of which speculation cannot adequately prove.\\n\\nHere first is explained the enigma of the critical philosophy, viz.: how we deny objective reality to the supersensible use of the categories in speculation and yet admit this reality with respect to the objects of pure practical reason. This must at first seem inconsistent as long as this practical use is only nominally known. But when, by a thorough analysis of it, one becomes aware that the reality spoken of does not imply any theoretical determination of the categories and extension of our knowledge to the supersensible; but that what is meant is that in this respect an object belongs to them, because either they are contained in the necessary determination of the will a priori, or are inseparably connected with its object; then this inconsistency disappears, because the use we make of these concepts is different from what speculative reason requires. On the other hand, there now appears an unexpected and very satisfactory proof of the consistency of the speculative critical philosophy. For whereas it insisted that the objects of experience as such, including our own subject, have only the value of phenomena, while at the same time things in themselves must be supposed as their basis, so that not everything supersensible was to be regarded as a fiction and its concept as empty; so now practical reason itself, without any concert with the speculative, assures reality to a supersensible object of the category of causality, viz., freedom, although (as becomes a practical concept) only for practical use; and this establishes on the evidence of a fact that which in the former case could only be conceived. By this the strange but certain doctrine of the speculative critical philosophy, that the thinking subject is to itself in internal intuition only a phenomenon, obtains in the critical examination of the practical reason its full confirmation, and that so thoroughly that we should be compelled to adopt this doctrine, even if the former had never proved it at all. *\\n\\n* The union of causality as freedom with causality as rational mechanism, the former established by the moral law, the latter by the law of nature in the same subject, namely, man, is impossible, unless we conceive him with reference to the former as a being in himself, and with reference to the latter as a phenomenon- the former in pure consciousness, the latter in empirical consciousness. Otherwise reason inevitably contradicts itself.\\n\\nBy this also I can understand why the most considerable objections which I have as yet met with against the Critique turn about these two points, namely, on the one side, the objective reality of the categories as applied to noumena, which is in the theoretical department of knowledge denied, in the practical affirmed; and on the other side, the paradoxical demand to regard oneself qua subject of freedom as a noumenon, and at the same time from the point of view of physical nature as a phenomenon in one\\'s own empirical consciousness; for as long as one has formed no definite notions of morality and freedom, one could not conjecture on the one side what was intended to be the noumenon, the basis of the alleged phenomenon, and on the other side it seemed doubtful whether it was at all possible to form any notion of it, seeing that we had previously assigned all the notions of the pure understanding in its theoretical use exclusively to phenomena. Nothing but a detailed criticism of the practical reason can remove all this misapprehension and set in a clear light the consistency which constitutes its greatest merit.\\n\\nSo much by way of justification of the proceeding by which, in this work, the notions and principles of pure speculative reason which have already undergone their special critical examination are, now and then, again subjected to examination. This would not in other cases be in accordance with the systematic process by which a science is established, since matters which have been decided ought only to be cited and not again discussed. In this case, however, it was not only allowable but necessary, because reason is here considered in transition to a different use of these concepts from what it had made of them before. Such a transition necessitates a comparison of the old and the new usage, in order to distinguish well the new path from the old one and, at the same time, to allow their connection to be observed. Accordingly considerations of this kind, including those which are once more directed to the concept of freedom in the practical use of the pure reason, must not be regarded as an interpolation serving only to fill up the gaps in the critical system of speculative reason (for this is for its own purpose complete), or like the props and buttresses which in a hastily constructed building are often added afterwards; but as true members which make the connexion of the system plain, and show us concepts, here presented as real, which there could only be presented problematically. This remark applies especially to the concept of freedom, respecting which one cannot but observe with surprise that so many boast of being able to understand it quite well and to explain its possibility, while they regard it only psychologically, whereas if they had studied it in a transcendental point of view, they must have recognized that it is not only indispensable as a problematical concept, in the complete use of speculative reason, but also quite incomprehensible; and if they afterwards came to consider its practical use, they must needs have come to the very mode of determining the principles of this, to which they are now so loth to assent. The concept of freedom is the stone of stumbling for all empiricists, but at the same time the key to the loftiest practical principles for critical moralists, who perceive by its means that they must necessarily proceed by a rational method. For this reason I beg the reader not to pass lightly over what is said of this concept at the end of the Analytic.\\n\\nI must leave it to those who are acquainted with works of this kind to judge whether such a system as that of the practical reason, which is here developed from the critical examination of it, has cost much or little trouble, especially in seeking not to miss the true point of view from which the whole can be rightly sketched. It presupposes, indeed, the Fundamental Principles of the Metaphysic of Morals, but only in so far as this gives a preliminary acquaintance with the principle of duty, and assigns and justifies a definite formula thereof; in other respects it is independent. * It results from the nature of this practical faculty itself that the complete classification of all practical sciences cannot be added, as in the critique of the speculative reason. For it is not possible to define duties specially, as human duties, with a view to their classification, until the subject of this definition (viz., man) is known according to his actual nature, at least so far as is necessary with respect to duty; this, however, does not belong to a critical examination of the practical reason, the business of which is only to assign in a complete manner the principles of its possibility, extent, and limits, without special reference to human nature. The classification then belongs to the system of science, not to the system of criticism.\\n\\n* A reviewer who wanted to find some fault with this work has hit the truth better, perhaps, than he thought, when he says that no new principle of morality is set forth in it, but only a new formula. But who would think of introducing a new principle of all morality and making himself as it were the first discoverer of it, just as if all the world before him were ignorant what duty was or had been in thorough-going error? But whoever knows of what importance to a mathematician a formula is, which defines accurately what is to be done to work a problem, will not think that a formula is insignificant and useless which does the same for all duty in general.\\n\\nIn the second part of the Analytic I have given, as I trust, a sufficient answer to the objection of a truth-loving and acute critic * of the Fundamental Principles of the Metaphysic of Morals- a critic always worthy of respect- the objection, namely, that the notion of good was not established before the moral principle, as he thinks it ought to have been. *(2) I have also had regard to many of the objections which have reached me from men who show that they have at heart the discovery of the truth, and I shall continue to do so (for those who have only their old system before their eyes, and who have already settled what is to be approved or disapproved, do not desire any explanation which might stand in the way of their own private opinion.)\\n\\n* \\n\\n*(2) It might also have been objected to me that I have not first defined the notion of the faculty of desire, or of the feeling of Pleasure, although this reproach would be unfair, because this definition might reasonably be presupposed as given in psychology. However, the definition there given might be such as to found the determination of the faculty of desire on the feeling of pleasure (as is commonly done), and thus the supreme principle of practical philosophy would be necessarily made empirical, which, however, remains to be proved and in this critique is altogether refuted. It will, therefore, give this definition here in such a manner as it ought to be given, in order to leave this contested point open at the beginning, as it should be. LIFE is the faculty a being has of acting according to laws of the faculty of desire. The faculty of DESIRE is the being\\'s faculty of becoming by means of its ideas the cause of the actual existence of the objects of these ideas. PLEASURE is the idea of the agreement of the object, or the action with the subjective conditions of life, i.e., with the faculty of causality of an idea in respect of the actuality of its object (or with the determination of the forces of the subject to action which produces it). I have no further need for the purposes of this critique of notions borrowed from psychology; the critique itself supplies the rest. It is easily seen that the question whether the faculty of desire is always based on pleasure, or whether under certain conditions pleasure only follows the determination of desire, is by this definition left undecided, for it is composed only of terms belonging to the pure understanding, i.e., of categories which contain nothing empirical. Such precaution is very desirable in all philosophy and yet is often neglected; namely, not to prejudge questions by adventuring definitions before the notion has been completely analysed, which is often very late. It may be observed through the whole course of the critical philosophy (of the theoretical as well as the practical reason) that frequent opportunity offers of supplying defects in the old dogmatic method of philosophy, and of correcting errors which are not observed until we make such rational use of these notions viewing them as a whole.\\n\\nWhen we have to study a particular faculty of the human mind in its sources, its content, and its limits; then from the nature of human knowledge we must begin with its parts, with an accurate and complete exposition of them; complete, namely, so far as is possible in the present state of our knowledge of its elements. But there is another thing to be attended to which is of a more philosophical and architectonic character, namely, to grasp correctly the idea of the whole, and from thence to get a view of all those parts as mutually related by the aid of pure reason, and by means of their derivation from the concept of the whole. This is only possible through the most intimate acquaintance with the system; and those who find the first inquiry too troublesome, and do not think it worth their while to attain such an acquaintance, cannot reach the second stage, namely, the general view, which is a synthetical return to that which had previously been given analytically. It is no wonder then if they find inconsistencies everywhere, although the gaps which these indicate are not in the system itself, but in their own incoherent train of thought.\\n\\nI have no fear, as regards this treatise, of the reproach that I wish to introduce a new language, since the sort of knowledge here in question has itself somewhat of an everyday character. Nor even in the case of the former critique could this reproach occur to anyone who had thought it through and not merely turned over the leaves. To invent new words where the language has no lack of expressions for given notions is a childish effort to distinguish oneself from the crowd, if not by new and true thoughts, yet by new patches on the old garment. If, therefore, the readers of that work know any more familiar expressions which are as suitable to the thought as those seem to me to be, or if they think they can show the futility of these thoughts themselves and hence that of the expression, they would, in the first case, very much oblige me, for I only desire to be understood: and, in the second case, they would deserve well of philosophy. But, as long as these thoughts stand, I very much doubt that suitable and yet more common expressions for them can be found. *\\n\\n* I am more afraid in the present treatise of occasional misconception in respect of some expressions which I have chosen with the greatest care in order that the notion to which they point may not be missed. Thus, in the table of categories of the Practical reason under the title of Modality, the Permitted, and forbidden (in a practical objective point of view, possible and impossible) have almost the same meaning in common language as the next category, duty and contrary to duty. Here, however, the former means what coincides with, or contradicts, a merely possible practical precept (for example, the solution of all problems of geometry and mechanics); the latter, what is similarly related to a law actually present in the reason; and this distinction is not quite foreign even to common language, although somewhat unusual. For example, it is forbidden to an orator, as such, to forge new words or constructions; in a certain degree this is permitted to a poet; in neither case is there any question of duty. For if anyone chooses to forfeit his reputation as an orator, no one can prevent him. We have here only to do with the distinction of imperatives into problematical, assertorial, and apodeictic. Similarly in the note in which I have pared the moral ideas of practical perfection in different philosophical schools, I have distinguished the idea of wisdom from that of holiness, although I have stated that essentially and objectively they are the same. But in that place I understand by the former only that wisdom to which man (the Stoic) lays claim; therefore I take it subjectively as an attribute alleged to belong to man. (Perhaps the expression virtue, with which also the made great show, would better mark the characteristic of his school.) The expression of a postulate of pure practical reason might give most occasion to misapprehension in case the reader confounded it with the signification of the postulates in pure mathematics, which carry apodeictic certainty with them. These, however, postulate the possibility of an action, the object of which has been previously recognized a priori in theory as possible, and that with perfect certainty. But the former postulates the possibility of an object itself (God and the immortality of the soul) from apodeictic practical laws, and therefore only for the purposes of a practical reason. This certainty of the postulated possibility then is not at all theoretic, and consequently not apodeictic; that is to say, it is not a known necessity as regards the object, but a necessary supposition as regards the subject, necessary for the obedience to its objective but practical laws. It is, therefore, merely a necessary hypothesis. I could find no better expression for this rational necessity, which is subjective, but yet true and unconditional.\\n\\nIn this manner, then, the a priori principles of two faculties of the mind, the faculty of cognition and that of desire, would be found and determined as to the conditions, extent, and limits of their use, and thus a sure foundation be paid for a scientific system of philosophy, both theoretic and practical.\\n\\nNothing worse could happen to these labours than that anyone should make the unexpected discovery that there neither is, nor can be, any a priori knowledge at all. But there is no danger of this. This would be the same thing as if one sought to prove by reason that there is no reason. For we only say that we know something by reason, when we are conscious that we could have known it, even if it had not been given to us in experience; hence rational knowledge and knowledge a priori are one and the same. It is a clear contradiction to try to extract necessity from a principle of experience (ex pumice aquam), and to try by this to give a judgement true universality (without which there is no rational inference, not even inference from analogy, which is at least a presumed universality and objective necessity). To substitute subjective necessity, that is, custom, for objective, which exists only in a priori judgements, is to deny to reason the power of judging about the object, i.e., of knowing it, and what belongs to it. It implies, for example, that we must not say of something which often or always follows a certain antecedent state that we can conclude from this to that (for this would imply objective necessity and the notion of an a priori connexion), but only that we may expect similar cases (just as animals do), that is that we reject the notion of cause altogether as false and a mere delusion. As to attempting to remedy this want of objective and consequently universal validity by saying that we can see no ground for attributing any other sort of knowledge to other rational beings, if this reasoning were valid, our ignorance would do more for the enlargement of our knowledge than all our meditation. For, then, on this very ground that we have no knowledge of any other rational beings besides man, we should have a right to suppose them to be of the same nature as we know ourselves to be: that is, we should really know them. I omit to mention that universal assent does not prove the objective validity of a judgement (i.e., its validity as a cognition), and although this universal assent should accidentally happen, it could furnish no proof of agreement with the object; on the contrary, it is the objective validity which alone constitutes the basis of a necessary universal consent.\\n\\nHume would be quite satisfied with this system of universal empiricism, for, as is well known, he desired nothing more than that, instead of ascribing any objective meaning to the necessity in the concept of cause, a merely subjective one should be assumed, viz., custom, in order to deny that reason could judge about God, freedom, and immortality; and if once his principles were granted, he was certainly well able to deduce his conclusions therefrom, with all logical coherence. But even Hume did not make his empiricism so universal as to include mathematics. He holds the principles of mathematics to be analytical; and if his were correct, they would certainly be apodeictic also: but we could not infer from this that reason has the faculty of forming apodeictic judgements in philosophy also- that is to say, those which are synthetical judgements, like the judgement of causality. But if we adopt a universal empiricism, then mathematics will be included.\\n\\nNow if this science is in contradiction with a reason that admits only empirical principles, as it inevitably is in the antinomy in which mathematics prove the infinite divisibility of space, which empiricism cannot admit; then the greatest possible evidence of demonstration is in manifest contradiction with the alleged conclusions from experience, and we are driven to ask, like Cheselden\\'s blind patient, \"Which deceives me, sight or touch?\" (for empiricism is based on a necessity felt, rationalism on a necessity seen). And thus universal empiricism reveals itself as absolute scepticism. It is erroneous to attribute this in such an unqualified sense to Hume, * since he left at least one certain touchstone (which can only be found in a priori principles), although experience consists not only of feelings, but also of judgements.\\n\\n* Names that designate the followers of a sect have always been accompanied with much injustice; just as if one said, \"N is an Idealist.\" For although he not only admits, but even insists, that our ideas of external things have actual objects of external things corresponding to them, yet he holds that the form of the intuition does not depend on them but on the human mind.\\n\\nHowever, as in this philosophical and critical age such empiricism can scarcely be serious, and it is probably put forward only as an intellectual exercise and for the purpose of putting in a clearer light, by contrast, the necessity of rational a priori principles, we can only be grateful to those who employ themselves in this otherwise uninstructive labour.\\n\\n']"
      ]
     },
     "execution_count": 103,
     "metadata": {},
     "output_type": "execute_result"
    }
   ],
   "source": [
    "#create a process Pool with 2 processes\n",
    "pool1 = Pool(processes = 4)\n",
    "\n",
    "#map doWork to availble Pool processes\n",
    "results = pool1.starmap(get_song_lyrics, zip(splitted_kpop))\n",
    "\n",
    "pool1.close()\n",
    "\n",
    "# list with 4 elements, whatever the function returned. in our case we might want to append them.\n",
    "results"
   ]
  },
  {
   "cell_type": "code",
   "execution_count": null,
   "metadata": {
    "collapsed": true
   },
   "outputs": [],
   "source": []
  },
  {
   "cell_type": "code",
   "execution_count": null,
   "metadata": {
    "collapsed": true
   },
   "outputs": [],
   "source": []
  }
 ],
 "metadata": {
  "kernelspec": {
   "display_name": "Python 3",
   "language": "python",
   "name": "python3"
  },
  "language_info": {
   "codemirror_mode": {
    "name": "ipython",
    "version": 3
   },
   "file_extension": ".py",
   "mimetype": "text/x-python",
   "name": "python",
   "nbconvert_exporter": "python",
   "pygments_lexer": "ipython3",
   "version": "3.5.2"
  }
 },
 "nbformat": 4,
 "nbformat_minor": 2
}
