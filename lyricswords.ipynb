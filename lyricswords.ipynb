{
 "cells": [
  {
   "cell_type": "code",
   "execution_count": 1,
   "metadata": {
    "collapsed": true
   },
   "outputs": [],
   "source": [
    "import os\n",
    "import sys\n",
    "import spotipy\n",
    "import spotipy.util as util\n",
    "\n",
    "from sklearn.decomposition import PCA\n",
    "from sklearn.preprocessing import scale, minmax_scale\n",
    "\n",
    "import matplotlib.pyplot as plt\n",
    "import numpy as np\n",
    "import pickle\n",
    "import pandas as pd\n",
    "import requests\n",
    "import string\n",
    "\n",
    "import re\n",
    "\n",
    "from ipywidgets import IntProgress\n",
    "from IPython.display import display\n",
    "\n",
    "import nltk\n",
    "\n",
    "from collections import Counter, defaultdict\n",
    "from py_genius import Genius\n",
    "from bs4 import BeautifulSoup\n",
    "\n",
    "SPOTIPY_REDIRECT_URI='http://localhost:8888/callback'\n",
    "SPOTIPY_CLIENT_SECRET='c02f97ddd119470d8e24b290722c7490'\n",
    "SPOTIPY_CLIENT_ID='647ffb8c163b4882be0cafe4bf1352d5'\n",
    "SCOPE='user-library-read'\n",
    "USERNAME = '29n1g5zgbzcs413wmovhqdguz'\n",
    "\n",
    "plt.rcParams['figure.figsize'] = (20, 14)"
   ]
  },
  {
   "cell_type": "code",
   "execution_count": 21,
   "metadata": {
    "collapsed": true
   },
   "outputs": [],
   "source": [
    "token = util.prompt_for_user_token(username=USERNAME,\n",
    "                           scope=SCOPE,\n",
    "                           client_id=SPOTIPY_CLIENT_ID,\n",
    "                           client_secret=SPOTIPY_CLIENT_SECRET,\n",
    "                           redirect_uri=SPOTIPY_REDIRECT_URI)\n",
    "\n",
    "if not token:\n",
    "    print(\"Can't get token for username\", username)\n",
    "    sys.exit(1)\n",
    "\n",
    "sp = spotipy.Spotify(auth=token)"
   ]
  },
  {
   "cell_type": "code",
   "execution_count": 22,
   "metadata": {
    "collapsed": true
   },
   "outputs": [],
   "source": [
    "genius = Genius('D1EklW0p0iQZEo18Ki2SGKBIlBatRKDZvxPcbPYny1Hq2UQo8UJ78abO-DjTXelr')"
   ]
  },
  {
   "cell_type": "code",
   "execution_count": 7,
   "metadata": {
    "collapsed": true
   },
   "outputs": [],
   "source": [
    "def get_song_lyrics(song_name):\n",
    "    search_results = genius.search(song_name)\n",
    "    try:\n",
    "        song_url = search_results['response']['hits'][0]['result']['url']\n",
    "    except:\n",
    "        return ''\n",
    "    page = requests.get(song_url)\n",
    "    html = BeautifulSoup(page.text, 'html.parser')\n",
    "    lyrics_bytes = html.find('div', class_='lyrics').get_text().encode('ascii', 'ignore')\n",
    "    lyrics = lyrics_bytes.decode('ascii')\n",
    "    \n",
    "    return re.sub(r'\\[(.*?)\\]', '', lyrics)"
   ]
  },
  {
   "cell_type": "code",
   "execution_count": 8,
   "metadata": {},
   "outputs": [
    {
     "data": {
      "text/plain": [
       "'\\n\\n\\n\\n\\nEverything black, I don\\'t want black (They want us to bow)\\nI want everything black, I ain\\'t need black (Down to our knees)\\nSome white, some black, I ain\\'t mean black (And pray to a God)\\nI want everything black (That we don\\'t believe)\\nEverything black, want all things black\\nI don\\'t need black, want everything black\\nDon\\'t need black, our eyes ain\\'t black\\nI own black, own everything black\\n\\n\\nSix in the morn\\', fire in the street\\nBurn, baby, burn, that\\'s all I wanna see\\nAnd sometimes I get off watchin\\' you die in vain\\nIt\\'s such a shame they may call me crazy\\nThey may say I suffer from schizophrenia or somethin\\'\\nBut homie, you made me\\nBlack don\\'t crack, my nigga\\n\\n\\nI\\'m the biggest hypocrite of 2015\\nOnce I finish this, witnesses will convey just what I mean\\nBeen feeling this way since I was 16, came to my senses\\nYou never liked us anyway, fuck your friendship, I meant it\\nI\\'m African-American, I\\'m African\\nI\\'m black as the moon, heritage of a small village\\nPardon my residence\\nCame from the bottom of mankind\\nMy hair is nappy, my dick is big, my nose is round and wide\\nYou hate me don\\'t you?\\nYou hate my people, your plan is to terminate my culture\\nYou\\'re fuckin\\' evil I want you to recognize that I\\'m a proud monkey\\nYou vandalize my perception but can\\'t take style from me\\nAnd this is more than confession\\nI mean I might press the button just so you know my discretion\\nI\\'m guardin\\' my feelings, I know that you feel it\\nYou sabotage my community, makin\\' a killin\\'\\nYou made me a killer, emancipation of a real nigga\\n\\n\\nThe blacker the berry, the sweeter the juice\\nThe blacker the berry, the sweeter the juice\\nThe blacker the berry, the sweeter the juice\\nThe blacker the berry, the bigger I shoot\\n\\n\\nI said they treat me like a slave, cah\\' me black\\nWoi, we feel a whole heap of pain, cah\\' we black\\nAnd man a say they put me inna chains, cah\\' we black\\nImagine now, big gold chains full of rocks\\nHow you no see the whip, left scars pon\\' me back\\nBut now we have a big whip parked pon\\' the block\\nAll them say we doomed from the start, cah\\' we black\\nRemember this, every race start from the block, jus \\'member dat\\n\\n\\nI\\'m the biggest hypocrite of 2015\\nOnce I finish this, witnesses will convey just what I mean\\nI mean, it\\'s evident that I\\'m irrelevant to society\\nThat\\'s what you\\'re telling me, penitentiary would only hire me\\nCurse me till I\\'m dead\\nChurch me with your fake prophesizing that I\\'mma be just another slave in my head\\nInstitutionalized manipulation and lies\\nReciprocation of freedom only live in your eyes\\nYou hate me don\\'t you?\\nI know you hate me just as much as you hate yourself\\nJealous of my wisdom and cards I dealt\\nWatchin\\' me as I pull up, fill up my tank, then peel out\\nMuscle cars like pull ups, show you what these big wheels \\'bout, ah\\nBlack and successful, this black man meant to be special\\nKatzkins on my radar, bitch, how can I help you?\\nHow can I tell you I\\'m making a killin\\'?\\nYou made me a killer, emancipation of a real nigga\\n\\n\\nThe blacker the berry, the sweeter the juice\\nThe blacker the berry, the sweeter the juice\\nThe blacker the berry, the sweeter the juice\\nThe blacker the berry, the bigger I shoot\\n\\n\\nI said they treat me like a slave, cah\\' me black\\nWoi, we feel a whole heap of pain, cah\\' we black\\nAnd man a say they put me inna chains, cah\\' we black\\nImagine now, big gold chains full of rocks\\nHow you no see the whip, left scars pon\\' me back\\nBut now we have a big whip parked pon\\' the block\\nAll them say we doomed from the start, cah\\' we black\\nRemember this, every race start from the block, jus \\'member dat\\n\\n\\nI\\'m the biggest hypocrite of 2015\\nWhen I finish this if you listenin\\' then sure you will agree\\nThis plot is bigger than me, it\\'s generational hatred\\nIt\\'s genocism, it\\'s grimy, little justification\\nI\\'m African-American, I\\'m African\\nI\\'m black as the heart of a fuckin\\' Aryan\\nI\\'m black as the name of Tyrone and Darius\\nExcuse my French but fuck you  no, fuck y\\'all\\nThat\\'s as blunt as it gets, I know you hate me, don\\'t you?\\nYou hate my people, I can tell cause it\\'s threats when I see you\\nI can tell cause your ways deceitful\\nKnow I can tell because you\\'re in love with that Desert Eagle\\nThinkin\\' maliciously, he get a chain then you gone bleed him\\nIt\\'s funny how Zulu and Xhosa might go to war\\nTwo tribal armies that want to build and destroy\\nRemind me of these Compton Crip gangs that live next door\\nBeefin\\' with Pirus, only death settle the score\\nSo don\\'t matter how much I say I like to preach with the Panthers\\nOr tell Georgia State \"Marcus Garvey got all the answers\"\\nOr try to celebrate February like it\\'s my B-Day\\nOr eat watermelon, chicken, and Kool-Aid on weekdays\\nOr jump high enough to get Michael Jordan endorsements\\nOr watch BET cause urban support is important\\nSo why did I weep when Trayvon Martin was in the street when gang banging make me kill a nigga blacker than me?\\nHypocrite!\\n\\n\\n\\n'"
      ]
     },
     "execution_count": 8,
     "metadata": {},
     "output_type": "execute_result"
    }
   ],
   "source": [
    "get_song_lyrics('blacker the berry')"
   ]
  },
  {
   "cell_type": "code",
   "execution_count": 30,
   "metadata": {
    "collapsed": true
   },
   "outputs": [],
   "source": [
    "def get_lyrics_spotify_uri(uri):\n",
    "    global sp\n",
    "    while True:\n",
    "        try:\n",
    "            track = sp.track(uri)\n",
    "            track_name = track['name']\n",
    "            track_artist = track['artists'][0]['name']\n",
    "            full_name = '{0} - {1}'.format(track_name, track_artist)\n",
    "            return get_song_lyrics(full_name)\n",
    "        except:\n",
    "            token = util.prompt_for_user_token(username=USERNAME,\n",
    "                               scope=SCOPE,\n",
    "                               client_id=SPOTIPY_CLIENT_ID,\n",
    "                               client_secret=SPOTIPY_CLIENT_SECRET,\n",
    "                               redirect_uri=SPOTIPY_REDIRECT_URI)\n",
    "\n",
    "            if not token:\n",
    "                print(\"Can't get token for username\", username)\n",
    "                sys.exit(1)\n",
    "\n",
    "            sp = spotipy.Spotify(auth=token)"
   ]
  },
  {
   "cell_type": "code",
   "execution_count": 10,
   "metadata": {},
   "outputs": [
    {
     "name": "stdout",
     "output_type": "stream",
     "text": [
      "\n",
      "\n",
      "\n",
      "Are you alright?\n",
      "I'm alright, I'm quite alright\n",
      "And my money's right\n",
      "8 (yeah)\n",
      "Countin' them bands\n",
      "All way to the top 'til they be fallin' over\n",
      "(yeah, yeah, yeah)\n",
      "Countin' them bands\n",
      "On my way to the top 'til we fallin' over\n",
      "\n",
      "\n",
      "I don't really care if you cry\n",
      "On the real, you shoulda never lied\n",
      "Shoulda saw the way she looked me in my eyes\n",
      "She said: \"Baby, I am not afraid to die.\"\n",
      "Push me to the edge\n",
      "All my friends are dead\n",
      "Push me to the edge\n",
      "All my friends are dead\n",
      "Push me to the edge\n",
      "All my friends are dead\n",
      "Push me to the edge\n",
      "\n",
      "\n",
      "Phantom that's all red, inside all white\n",
      "Like somethin' you ride a sled down, I just want that head\n",
      "My Brittany got mad, I'm barely her man now\n",
      "Everybody got the same swag now\n",
      "Watch the way that I tear it down\n",
      "Stackin' my bands all the way to the top\n",
      "All the way 'til my bands fallin' over\n",
      "Every time that you leave your spot\n",
      "Your girlfriend call me like, \"Come on over!\"\n",
      "I like the way that she treat me\n",
      "Gon' leave you, won't leave me, I call it that Casanova\n",
      "She say I'm insane, yeah\n",
      "I might blow my brain out (hey)\n",
      "Xanny, help the pain, yeah\n",
      "Please, Xanny, make it go away\n",
      "I'm committed, not addicted, but it keep control of me\n",
      "All the pain, now I can't feel it\n",
      "I swear that it's slowin' me, yeah\n",
      "\n",
      "\n",
      "I don't really care if you cry\n",
      "On the real, you shoulda never lied\n",
      "Saw the way she looked me in my eyes\n",
      "She said: \"I am not afraid to die.\", yo\n",
      "All my friends are dead\n",
      "Push me to the edge (yeah)\n",
      "All my friends are dead, yeah, ooh\n",
      "Push me to the edge\n",
      "All my friends are dead, yeah\n",
      "All my friends are dead, yeah\n",
      "\n",
      "\n",
      "That is not your swag, I swear you fake hard\n",
      "Now these niggas wanna take my cadence\n",
      "Rain on 'em, thunderstorm, rain on 'em (ooh, yeah)\n",
      "Medicine, lil' nigga, take some (yeh, yeh)\n",
      "Fast car, NASCAR, race on 'em\n",
      "In the club, ain't got no ones, then we would beg them\n",
      "Clothes from overseas, got the racks and they all C-Notes\n",
      "You is not a G though\n",
      "Lookin' at you stackin' all your money, it all green though\n",
      "I was countin' that and these all twenties, that's a G-roll\n",
      "\n",
      "\n",
      "She say: \"You're the worst, you're the worst.\"\n",
      "I cannot die because this my universe\n",
      "\n",
      "\n",
      "I don't really care if you cry\n",
      "On the real, you shoulda never lied\n",
      "Shoulda saw the way she looked me in my eyes\n",
      "She said: \"Baby, I am not afraid to die.\"\n",
      "Push me to the edge\n",
      "All my friends are dead\n",
      "Push me to the edge\n",
      "All my friends are dead\n",
      "Push me to the edge\n",
      "All my friends are dead\n",
      "Push me to the edge\n",
      "\n",
      "\n"
     ]
    }
   ],
   "source": [
    "test = pickle.load(open('datasets/rap_metafeatures', 'rb'))\n",
    "# test_dict = {\n",
    "    \n",
    "# }\n",
    "# print(test[0])\n",
    "# print([x])\n",
    "testtest = test['uri'][4]\n",
    "print(get_lyrics_spotify_uri(testtest))\n",
    "x = get_lyrics_spotify_uri(testtest)"
   ]
  },
  {
   "cell_type": "code",
   "execution_count": 11,
   "metadata": {
    "collapsed": true
   },
   "outputs": [],
   "source": [
    "def log_progress(sequence, every=None, size=None, name='Items'):\n",
    "    from ipywidgets import IntProgress, HTML, VBox\n",
    "    from IPython.display import display\n",
    "\n",
    "    is_iterator = False\n",
    "    if size is None:\n",
    "        try:\n",
    "            size = len(sequence)\n",
    "        except TypeError:\n",
    "            is_iterator = True\n",
    "    if size is not None:\n",
    "        if every is None:\n",
    "            if size <= 200:\n",
    "                every = 1\n",
    "            else:\n",
    "                every = int(size / 200)     # every 0.5%\n",
    "    else:\n",
    "        assert every is not None, 'sequence is iterator, set every'\n",
    "\n",
    "    if is_iterator:\n",
    "        progress = IntProgress(min=0, max=1, value=1)\n",
    "        progress.bar_style = 'info'\n",
    "    else:\n",
    "        progress = IntProgress(min=0, max=size, value=0)\n",
    "    label = HTML()\n",
    "    box = VBox(children=[label, progress])\n",
    "    display(box)\n",
    "\n",
    "    index = 0\n",
    "    try:\n",
    "        for index, record in enumerate(sequence, 1):\n",
    "            if index == 1 or index % every == 0:\n",
    "                if is_iterator:\n",
    "                    label.value = '{name}: {index} / ?'.format(\n",
    "                        name=name,\n",
    "                        index=index\n",
    "                    )\n",
    "                else:\n",
    "                    progress.value = index\n",
    "                    label.value = u'{name}: {index} / {size}'.format(\n",
    "                        name=name,\n",
    "                        index=index,\n",
    "                        size=size\n",
    "                    )\n",
    "            yield record\n",
    "    except:\n",
    "        progress.bar_style = 'danger'\n",
    "        raise\n",
    "    else:\n",
    "        progress.bar_style = 'success'\n",
    "        progress.value = index\n",
    "        label.value = \"{name}: {index}\".format(\n",
    "            name=name,\n",
    "            index=str(index or '?')\n",
    "        )\n",
    "        progress.layout.display = 'none'\n",
    "        box.layout.display = 'none'        "
   ]
  },
  {
   "cell_type": "code",
   "execution_count": 12,
   "metadata": {
    "collapsed": true
   },
   "outputs": [],
   "source": [
    "lyrics_dict = {}"
   ]
  },
  {
   "cell_type": "code",
   "execution_count": 25,
   "metadata": {},
   "outputs": [],
   "source": [
    "def get_lyrics_dicts(genre_dict):\n",
    "    all_classes = list(genre_dict.keys())\n",
    "    N = 0\n",
    "    index = defaultdict(dict)\n",
    "    inverted_index = defaultdict(lambda: defaultdict(set))\n",
    "        \n",
    "    for genre_name, genre_matrix in log_progress(genre_dict.items(), every=1):\n",
    "        N += genre_matrix.shape[0]\n",
    "        print('Now processing: {}'.format(genre_name))\n",
    "        for uri in log_progress(genre_matrix.uri, every=1):\n",
    "            tokens = None\n",
    "            if uri not in lyrics_dict:\n",
    "                lyrics = get_lyrics_spotify_uri(uri)\n",
    "                tokens = set(nltk.tokenize.word_tokenize(lyrics.lower()))\n",
    "                index[genre_name][uri] = tokens\n",
    "                lyrics_dict[uri] = tokens\n",
    "            else:\n",
    "                tokens = lyrics_dict[uri] \n",
    "                index[genre_name][uri] = tokens               \n",
    "            for token in tokens:\n",
    "                inverted_index[token][genre_name].add(uri)\n",
    "    \n",
    "    return index, inverted_index, N"
   ]
  },
  {
   "cell_type": "code",
   "execution_count": 14,
   "metadata": {},
   "outputs": [],
   "source": [
    "def mutual_information(t, c, my_index, inverted_index, N):\n",
    "    # amount of documents that contain tag t, and are in class c\n",
    "    N_11 =  len(set(inverted_index[t][c])) \n",
    "\n",
    "    # amount of documents that contain tag t, but are not in class c\n",
    "    N_10 =  len(set([\n",
    "        i for sub in [inverted_index[t][z] for z in [x for x in inverted_index[t].keys() if x != c]]\n",
    "        for i in sub\n",
    "    ]))\n",
    "    \n",
    "    # amount of documents that do not contain tag t, but are in class c\n",
    "    N_01 =  len(set([x for x in my_index[c].keys() if t not in my_index[c][x]]))\n",
    "    \n",
    "    # amount of documents that do not contain tag t, and are not in class c\n",
    "    N_00 = N - len(set(my_index[c].keys()) |\n",
    "                   set([i for sub in [\n",
    "                       inverted_index[t][s] for s in inverted_index[t].keys() if s != c\n",
    "                   ] for i in sub]))\n",
    "    \n",
    "    # Get all the formula's written down for easier returning\n",
    "    m_1 = (N_11 / N) * np.log2((N * N_11 / ((N_11 + N_10) * (N_11 + N_01))))\\\n",
    "        if N_11 != 0 and N_11 + N_10 != 0 and N_11 + N_01 != 0 else 0\n",
    "                \n",
    "    m_2 = (N_01 / N) * np.log2((N * N_01 / ((N_01 + N_00) * (N_11 + N_01))))\\\n",
    "        if N_01 != 0 and N_01 + N_00 != 0 and N_11 + N_01 != 0 else 0\n",
    "        \n",
    "    m_3 = (N_10 / N) * np.log2((N * N_10 / ((N_11 + N_10) * (N_10 + N_00))))\\\n",
    "        if N_10 != 0 and N_11 + N_10 != 0 and N_10 + N_00 != 0 else 0\n",
    "        \n",
    "    m_4 = (N_00 / N) * np.log2((N * N_00 / ((N_01 + N_00) * (N_10 + N_00))))\\\n",
    "        if N_00 != 0 and N_01 + N_00 != 0 and N_10 + N_00 != 0 else 0\n",
    "\n",
    "    return m_1 + m_2 + m_3 + m_4"
   ]
  },
  {
   "cell_type": "code",
   "execution_count": null,
   "metadata": {},
   "outputs": [
    {
     "data": {
      "application/vnd.jupyter.widget-view+json": {
       "model_id": "f83234ed9f694d2a9e05b0e43559d3fa"
      }
     },
     "metadata": {},
     "output_type": "display_data"
    },
    {
     "name": "stdout",
     "output_type": "stream",
     "text": [
      "Now processing: rap\n"
     ]
    },
    {
     "data": {
      "application/vnd.jupyter.widget-view+json": {
       "model_id": "d9aa95e54ac24d41960d64988cb0ef98"
      }
     },
     "metadata": {},
     "output_type": "display_data"
    }
   ],
   "source": [
    "index, inverted_index, N = get_lyrics_dicts({\n",
    "    'rap': pickle.load(open('datasets/rap_metafeatures', 'rb')),\n",
    "    'techno': pickle.load(open('datasets/techno_metafeatures', 'rb')),\n",
    "    'soul': pickle.load(open('datasets/soul_metafeatures', 'rb')),\n",
    "    'grunge': pickle.load(open('datasets/grunge_metafeatures', 'rb')),\n",
    "    'metal': pickle.load(open('datasets/metal_metafeatures', 'rb')),\n",
    "    'meditation': pickle.load(open('datasets/meditation_metafeatures', 'rb')),\n",
    "    'k-pop': pickle.load(open('datasets/k-pop_metafeatures', 'rb')),\n",
    "    'hardcore': pickle.load(open('datasets/hardcore_metafeatures', 'rb')),\n",
    "    'rock': pickle.load(open('datasets/rock_metafeatures', 'rb')),\n",
    "    'punk': pickle.load(open('datasets/punk_metafeatures', 'rb')),\n",
    "    'jazz': pickle.load(open('datasets/jazz_metafeatures', 'rb')),\n",
    "    'funk': pickle.load(open('datasets/funk_metafeatures', 'rb')),\n",
    "    'vaporwave': pickle.load(open('datasets/vaporwave_metafeatures', 'rb')),\n",
    "    'classical': pickle.load(open('datasets/classical_metafeatures', 'rb')),\n",
    "    'hiphop': pickle.load(open('datasets/hiphop_metafeatures', 'rb')),\n",
    "    'house': pickle.load(open('datasets/house_metafeatures', 'rb')),\n",
    "})"
   ]
  },
  {
   "cell_type": "code",
   "execution_count": null,
   "metadata": {
    "collapsed": true
   },
   "outputs": [],
   "source": []
  }
 ],
 "metadata": {
  "kernelspec": {
   "display_name": "Python 3",
   "language": "python",
   "name": "python3"
  },
  "language_info": {
   "codemirror_mode": {
    "name": "ipython",
    "version": 3
   },
   "file_extension": ".py",
   "mimetype": "text/x-python",
   "name": "python",
   "nbconvert_exporter": "python",
   "pygments_lexer": "ipython3",
   "version": "3.6.1"
  }
 },
 "nbformat": 4,
 "nbformat_minor": 2
}
