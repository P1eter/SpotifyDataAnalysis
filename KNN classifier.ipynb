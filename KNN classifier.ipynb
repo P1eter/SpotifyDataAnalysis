{
 "cells": [
  {
   "cell_type": "code",
   "execution_count": 1,
   "metadata": {
    "collapsed": false
   },
   "outputs": [],
   "source": [
    "import spotipy as sp\n",
    "import spotipy.util as util\n",
    "\n",
    "import numpy as np\n",
    "import scipy.stats as st\n",
    "import matplotlib.pyplot as plt\n",
    "import pandas as pd\n",
    "\n",
    "from sklearn.cluster import KMeans\n",
    "from sklearn import neighbors\n",
    "from sklearn import preprocessing\n",
    "from sklearn.metrics import confusion_matrix\n",
    "\n",
    "from collections import Counter\n",
    "\n",
    "import pickle\n",
    "import numbers\n",
    "import itertools\n"
   ]
  },
  {
   "cell_type": "code",
   "execution_count": 40,
   "metadata": {
    "collapsed": false,
    "scrolled": true
   },
   "outputs": [],
   "source": [
    "def plot_confusion_matrix(cm, classes,\n",
    "                          normalize=False,\n",
    "                          title='Confusion matrix',\n",
    "                          cmap=plt.cm.Blues):\n",
    "    \"\"\"\n",
    "    This function prints and plots the confusion matrix.\n",
    "    Normalization can be applied by setting `normalize=True`.\n",
    "    \"\"\"\n",
    "    if normalize:\n",
    "        cm = cm.astype('float') / cm.sum(axis=1)[:, np.newaxis]\n",
    "        print(\"Normalized confusion matrix\")\n",
    "    else:\n",
    "        print('Confusion matrix, without normalization')\n",
    "\n",
    "\n",
    "    plt.imshow(cm, interpolation='nearest', cmap=cmap)\n",
    "    plt.title(title)\n",
    "    plt.colorbar()\n",
    "    tick_marks = np.arange(len(classes))\n",
    "    plt.xticks(tick_marks, classes, rotation=45)\n",
    "    plt.yticks(tick_marks, classes)\n",
    "\n",
    "    fmt = '.2f' if normalize else 'd'\n",
    "    thresh = cm.max() / 2.\n",
    "    for i, j in itertools.product(range(cm.shape[0]), range(cm.shape[1])):\n",
    "        plt.text(j, i, format(cm[i, j], fmt),\n",
    "                 horizontalalignment=\"center\",\n",
    "                 color=\"white\" if cm[i, j] > thresh else \"black\")\n",
    "\n",
    "    plt.tight_layout()\n",
    "    plt.ylabel('True label')\n",
    "    plt.xlabel('Predicted label')\n",
    "\n",
    "def getTrainTestY(names):\n",
    "    \"\"\"\n",
    "    Load data from multiple genres and split in in a test, train and validation set and create the label vector\n",
    "    \"\"\"\n",
    "    trainsets = []\n",
    "    testsets = []\n",
    "    valsets = []\n",
    "    ytrain = []\n",
    "    ytest = []\n",
    "    yval = []\n",
    "    for i, name in enumerate(names):\n",
    "        dataset = pd.read_pickle(\"datasets/\" + name)\n",
    "\n",
    "        # split up in train test\n",
    "        trainsets += list(dataset[:int(0.6*len(dataset))].as_matrix())\n",
    "        testsets += list(dataset[int(0.6 * len(dataset)):int(0.8 * len(dataset))].as_matrix())\n",
    "        valsets += list(dataset[int(0.8 * len(dataset)):].as_matrix())\n",
    "\n",
    "        # create y vector\n",
    "        yvector = list(np.repeat(i, len(dataset)))\n",
    "        ytrain += yvector[:int(0.6 * len(dataset))]\n",
    "        ytest += yvector[int(0.6 * len(dataset)):int(0.8 * len(dataset))]\n",
    "        yval += yvector[int(0.8 * len(dataset)):]\n",
    "        \n",
    "    \n",
    "    np_scaled = preprocessing.scale(np.vstack((np.vstack((trainsets, testsets)), valsets)))\n",
    "    trainsets = pd.DataFrame(np_scaled[:len(ytrain)])\n",
    "    #np_scaled = preprocessing.scale(testsets)\n",
    "    testsets = pd.DataFrame(np_scaled[len(ytrain):len(ytrain) + len(ytest)])\n",
    "    valsets = pd.DataFrame(np_scaled[len(ytrain) + len(ytest):])\n",
    "    \n",
    "    \n",
    "    \n",
    "    return trainsets, testsets,valsets, ytrain, ytest, yval\n",
    "names = [\"classical_features\", \"hiphop_features\", \"rock_features\", \"house_features\", \"hardcore_features\", \"jazz_features\", \"k-pop_features\", \"grunge_features\"]\n",
    "train, test, validate, y_train, y_test, y_val = getTrainTestY(names)"
   ]
  },
  {
   "cell_type": "code",
   "execution_count": 41,
   "metadata": {
    "collapsed": false
   },
   "outputs": [],
   "source": [
    "# Fit a KNN classifier\n",
    "clf = neighbors.KNeighborsClassifier(9, weights='distance')\n",
    "clf.fit(train, y_train)\n",
    "test_results = clf.predict(test)"
   ]
  },
  {
   "cell_type": "code",
   "execution_count": 42,
   "metadata": {
    "collapsed": false
   },
   "outputs": [
    {
     "data": {
      "text/plain": [
       "0.6483125"
      ]
     },
     "execution_count": 42,
     "metadata": {},
     "output_type": "execute_result"
    }
   ],
   "source": [
    "# Check the performance of the classifier compared to the true label\n",
    "def evaluate(labels, true_labels):\n",
    "    good = 0\n",
    "    wrong = 0\n",
    "    for result, true_label in zip(labels, true_labels):\n",
    "        if result == true_label:\n",
    "            good += 1\n",
    "        else:\n",
    "            wrong += 1\n",
    "    return good, wrong\n",
    "result = evaluate(test_results, y_test)\n",
    "result[0] / (result[1] + result[0])"
   ]
  },
  {
   "cell_type": "code",
   "execution_count": 43,
   "metadata": {
    "collapsed": false
   },
   "outputs": [
    {
     "name": "stdout",
     "output_type": "stream",
     "text": [
      "Confusion matrix, without normalization\n"
     ]
    },
    {
     "data": {
      "image/png": "[encoded data removed]",
      "text/plain": [
       "<matplotlib.figure.Figure at 0x7f9da51f1cc0>"
      ]
     },
     "metadata": {},
     "output_type": "display_data"
    }
   ],
   "source": [
    "# Plot a confusion matrix to see if some classes are often confused with eachother\n",
    "cnf_matrix = confusion_matrix(test_results, y_test)\n",
    "\n",
    "plt.figure()\n",
    "plot_confusion_matrix(cnf_matrix, classes=names,\n",
    "                      title='Confusion matrix, without normalization')\n",
    "plt.show()"
   ]
  },
  {
   "cell_type": "code",
   "execution_count": null,
   "metadata": {
    "collapsed": false
   },
   "outputs": [],
   "source": []
  },
  {
   "cell_type": "markdown",
   "metadata": {
    "collapsed": false,
    "scrolled": true
   },
   "source": [
    "# Bootstrapping for confidence intervals"
   ]
  },
  {
   "cell_type": "code",
   "execution_count": 7,
   "metadata": {
    "collapsed": false,
    "scrolled": true
   },
   "outputs": [],
   "source": [
    "from scipy import spatial\n",
    "# spatial.distance.cosine([1,0], [1,1])\n",
    "\n",
    "def bootstrap(sample, amount):\n",
    "    # Create indexes of the numbers we want (this numpy call could be)\n",
    "    # replaced with our random generator from last week, it does the same.\n",
    "    indexes = np.random.randint(0, len(sample), amount)\n",
    "    new_sample = []\n",
    "    # Get all items and store them\n",
    "    for index in indexes:\n",
    "        new_sample += [sample[index]]\n",
    "    return  new_sample\n",
    "\n",
    "#[True if x == 0 else False for x in y_test]\n",
    "locations = np.array(y_val) == 0\n",
    "space = np.array(validate)\n",
    "subspace = [i for indx,i in enumerate(space) if locations[indx] == True]"
   ]
  },
  {
   "cell_type": "code",
   "execution_count": 8,
   "metadata": {
    "collapsed": false
   },
   "outputs": [],
   "source": [
    "total_sample_size = 100\n",
    "new_sample = bootstrap(subspace, int(0.9 * total_sample_size)) + bootstrap(space, int(0.1 * total_sample_size))\n"
   ]
  },
  {
   "cell_type": "code",
   "execution_count": 76,
   "metadata": {
    "collapsed": false,
    "scrolled": true
   },
   "outputs": [
    {
     "data": {
      "text/plain": [
       "array([0, 0, 0, 0, 0, 0, 0, 0, 0, 0, 0, 0, 0, 0, 0, 5, 0, 0, 0, 0, 0, 0, 5,\n",
       "       0, 0, 0, 0, 0, 0, 0, 0, 0, 0, 0, 5, 0, 0, 0, 0, 0, 0, 0, 0, 0, 0, 5,\n",
       "       0, 0, 0, 0, 0, 0, 0, 0, 0, 0, 0, 0, 0, 0, 2, 5, 0, 0, 0, 0, 0, 0, 0,\n",
       "       0, 0, 0, 0, 0, 0, 0, 0, 0, 0, 0, 0, 0, 0, 0, 0, 0, 0, 0, 0, 0, 6, 3,\n",
       "       4, 1, 0, 4, 6, 3, 3, 7])"
      ]
     },
     "execution_count": 76,
     "metadata": {},
     "output_type": "execute_result"
    }
   ],
   "source": [
    "sample_predictions = clf.predict(new_sample)\n",
    "sample_predictions"
   ]
  },
  {
   "cell_type": "code",
   "execution_count": 77,
   "metadata": {
    "collapsed": false
   },
   "outputs": [
    {
     "name": "stdout",
     "output_type": "stream",
     "text": [
      "Counter({0: 85, 5: 5, 3: 3, 4: 2, 6: 2, 1: 1, 2: 1, 7: 1})\n",
      "dict_values([85, 1, 1, 3, 2, 5, 2, 1])\n",
      "[1714    0    8    0    0  216    0    8]\n"
     ]
    }
   ],
   "source": [
    "# Add a 0 for classes that weren't used in the classification so this vector gets the same size\n",
    "# as a row from the confusion matrix.\n",
    "sample_predictions_dict = Counter(sample_predictions)\n",
    "for i in range(len(names)):\n",
    "    if i not in sample_predictions_dict.keys():\n",
    "        sample_predictions_dict[i] = 0\n",
    "print(sample_predictions_dict)\n",
    "print(sample_predictions_dict.values())\n",
    "print(cnf_matrix[0])"
   ]
  },
  {
   "cell_type": "code",
   "execution_count": 11,
   "metadata": {
    "collapsed": false
   },
   "outputs": [
    {
     "data": {
      "text/plain": [
       "0.040381457751404781"
      ]
     },
     "execution_count": 11,
     "metadata": {},
     "output_type": "execute_result"
    }
   ],
   "source": [
    "# \n",
    "1 - spatial.distance.cosine(list(other_vector_dict.values()), cnf_matrix[2])"
   ]
  },
  {
   "cell_type": "code",
   "execution_count": 54,
   "metadata": {
    "collapsed": false
   },
   "outputs": [],
   "source": [
    "# Create a playlist of 90% one class and 10% random songs, classify the songs and compute the cosine similarity\n",
    "def bootstrap_class(class_number, cnf_matrix, valset, y_val, total_sample_size = 100, amount = 1000):\n",
    "    # Get a dataframe with only the songs from the class\n",
    "    locations = np.array(y_val) == class_number\n",
    "    space = np.array(valset)\n",
    "    subspace = [i for indx,i in enumerate(space) if locations[indx] == True]\n",
    "    scores = []\n",
    "    # Get playlists, predict them and save the cosine similarity\n",
    "    for i in range(amount):\n",
    "        new_sample = bootstrap(subspace, int(0.9 * total_sample_size)) + bootstrap(space, int(0.1 * total_sample_size))\n",
    "        classifications = Counter(clf.predict(new_sample))\n",
    "        for i in range(len(names)):\n",
    "            if i not in list(classifications.keys()):\n",
    "                classifications[i] = 0\n",
    "        scores += [1 - spatial.distance.cosine(list(classifications.values()), cnf_matrix[class_number])]\n",
    "\n",
    "    return scores\n",
    "\n",
    "# For every class create 1000 playlists of 100 songs to classify\n",
    "cosines = []\n",
    "for i in range(len(names)):\n",
    "    cosines +=  [bootstrap_class(i, cnf_matrix, validate, y_val)]"
   ]
  },
  {
   "cell_type": "code",
   "execution_count": 55,
   "metadata": {
    "collapsed": false
   },
   "outputs": [
    {
     "data": {
      "text/plain": [
       "[0.97663383082237043,\n",
       " 0.97611116387054087,\n",
       " 0.81852088173746673,\n",
       " 0.96456202765781618,\n",
       " 0.96271397063158748,\n",
       " 0.98463624288791607,\n",
       " 0.87364601354287097,\n",
       " 0.88292620026237634]"
      ]
     },
     "execution_count": 55,
     "metadata": {},
     "output_type": "execute_result"
    }
   ],
   "source": [
    "# Calculate the confidence intervals on the cosine similarities\n",
    "confidence_intervals = []\n",
    "for genre_samples in cosines:\n",
    "    confidence_intervals += [np.percentile(genre_samples, 0.05)]\n",
    "confidence_intervals"
   ]
  },
  {
   "cell_type": "code",
   "execution_count": 17,
   "metadata": {
    "collapsed": false
   },
   "outputs": [],
   "source": [
    "# Spotipy to get features of the songs in the manually collected playlists\n",
    "import spotipy as sp\n",
    "import numbers\n",
    "import spotipy.util as util\n",
    "\n",
    "SPOTIPY_REDIRECT_URI='http://localhost:8888/callback'\n",
    "SPOTIPY_CLIENT_SECRET='c02f97ddd119470d8e24b290722c7490'\n",
    "SPOTIPY_CLIENT_ID='647ffb8c163b4882be0cafe4bf1352d5'\n",
    "USERNAME='lh7smhcywr18vctg4xmnoehzu'\n",
    "SCOPE='user-library-read'\n",
    "\n",
    "token = util.prompt_for_user_token(username=USERNAME,\n",
    "                           scope=SCOPE,\n",
    "                           client_id=SPOTIPY_CLIENT_ID,\n",
    "                           client_secret=SPOTIPY_CLIENT_SECRET,\n",
    "                           redirect_uri=SPOTIPY_REDIRECT_URI)\n",
    "\n",
    "s = sp.Spotify(auth=token)"
   ]
  },
  {
   "cell_type": "code",
   "execution_count": 23,
   "metadata": {
    "collapsed": false
   },
   "outputs": [
    {
     "name": "stdout",
     "output_type": "stream",
     "text": [
      "dict_keys(['analysis_url', 'key', 'tempo', 'speechiness', 'id', 'mode', 'track_href', 'liveness', 'instrumentalness', 'time_signature', 'type', 'loudness', 'uri', 'danceability', 'valence', 'energy', 'acousticness', 'duration_ms'])\n"
     ]
    }
   ],
   "source": [
    "p1 = s.user_playlist_tracks(\"xnikeboyx\", \"5zuAnrEQmLlri78gHVzJEx\")\n",
    "\n",
    "def get_audio_features(ids):\n",
    "    \"\"\"Collect all audio features in a list from a given list of track id's\"\"\"\n",
    "    audio_feats = []\n",
    "\n",
    "    for i in range(0, len(ids), 100):\n",
    "        audio_feats += s.audio_features(ids[i:i + 100])\n",
    "\n",
    "    return audio_feats\n",
    "def getDataframe(features):\n",
    "    matrix = []\n",
    "    metamatrix = []\n",
    "\n",
    "    columns = list(features[0].keys())\n",
    "    matrix_columns = columns[:11] + columns[-2:]\n",
    "    metamatrix_columns = columns[11:-2]\n",
    "\n",
    "    for track in features:        \n",
    "        vals = list(track.values())\n",
    "        try:\n",
    "            matrix += [vals[:11] + vals[-2:]]\n",
    "            metamatrix += [vals[11:-2]]\n",
    "        except:\n",
    "            pass\n",
    "        \n",
    "    return (pd.DataFrame(matrix, columns=matrix_columns),\n",
    "            pd.DataFrame(metamatrix, columns=metamatrix_columns))\n",
    "\n",
    "\n",
    "\n",
    "def get_random_sample(genre, iters = 20):\n",
    "    \"\"\"Main function\"\"\"\n",
    "    query = s.search(q='genre:{0}'.format(genre))\n",
    "    tracks = []\n",
    "    \n",
    "    i = 0\n",
    "    \n",
    "    while query['tracks']['next']:\n",
    "        print(i)\n",
    "        tracks.extend(query['tracks']['items'])\n",
    "        query = s.next(query['tracks'])\n",
    "        \n",
    "        i += 1\n",
    "        \n",
    "        if i == iters:\n",
    "            break\n",
    "            \n",
    "    feature_names = ['danceability', 'energy', 'key', 'loudness', 'mode', 'speechiness',\n",
    "     'acousticness', 'instrumentalness', 'liveness', 'valence', 'tempo', 'duration_ms', 'time_signature']\n",
    "  \n",
    "    # These steps are not computationally expensive\n",
    "    track_ids = get_track_ids(tracks, ide=False)\n",
    "    audio_feats = get_audio_features(track_ids)\n",
    "    \n",
    "    return getDataframe(audio_feats)\n",
    "\n",
    "tracks = []\n",
    "for item in p1[\"items\"]:\n",
    "    tracks += [item[\"track\"][\"id\"]]\n",
    "    \n",
    "feature_names = ['danceability', 'energy', 'key', 'loudness', 'mode', 'speechiness',\n",
    "  'acousticness', 'instrumentalness', 'liveness', 'valence', 'tempo', 'duration_ms', 'time_signature']\n",
    "\n",
    "# These steps are not computationally expensive\n",
    "audio_feats = get_audio_features(tracks)\n",
    "print(audio_feats[0].keys())\n",
    "matrix_of_features, metamatrix = getDataframe(audio_feats)\n",
    "df = pd.DataFrame(matrix_of_features)\n",
    "#df.columns = feature_names\n"
   ]
  },
  {
   "cell_type": "code",
   "execution_count": 31,
   "metadata": {
    "collapsed": false
   },
   "outputs": [
    {
     "name": "stdout",
     "output_type": "stream",
     "text": [
      "retrying ...3secs\n",
      "retrying ...1secs\n"
     ]
    }
   ],
   "source": [
    "# For every collected playlist: Get song features and save them\n",
    "matrices_dict = {}\n",
    "with open(\"userID_playlistID.txt\", \"r\") as f:\n",
    "    all_lines = f.readlines()\n",
    "    for line in all_lines[:2]:\n",
    "        userid, playlistid = line.split()\n",
    "        tracks = []\n",
    "        for item in p1[\"items\"]:\n",
    "            tracks += [item[\"track\"][\"id\"]]\n",
    "            audio_feats = get_audio_features(tracks)\n",
    "            matrix_of_features, metamatrix = getDataframe(audio_feats)\n",
    "            matrices_dict[playlistid] = (matrix_of_features, metamatrix)\n",
    "        "
   ]
  },
  {
   "cell_type": "code",
   "execution_count": 53,
   "metadata": {
    "collapsed": false
   },
   "outputs": [],
   "source": [
    "# Load the collected data from above and classify the songs\n",
    "matrices_dict = pickle.load(open(\"datasets/matrices_dict\", \"rb\"))\n",
    "df = 0\n",
    "predictions = []\n",
    "for key in matrices_dict.keys():\n",
    "    predictions += [Counter(clf.predict(preprocessing.scale(matrices_dict[key][0])))]\n",
    "\n"
   ]
  },
  {
   "cell_type": "code",
   "execution_count": 59,
   "metadata": {
    "collapsed": false
   },
   "outputs": [],
   "source": [
    "# Add 0's to get evenly long vectors\n",
    "for j in range(len(predictions)):\n",
    "    for i in range(len(names)):\n",
    "        if i not in predictions[j].keys():\n",
    "            predictions[j][i] = 0\n"
   ]
  },
  {
   "cell_type": "code",
   "execution_count": 68,
   "metadata": {
    "collapsed": false
   },
   "outputs": [
    {
     "data": {
      "text/plain": [
       "0"
      ]
     },
     "execution_count": 68,
     "metadata": {},
     "output_type": "execute_result"
    }
   ],
   "source": [
    "# Check how many playlists got a cosine similarity larger than the CI\n",
    "one_class = 0\n",
    "for prediction in predictions:\n",
    "    for row, ci_limit in zip(cnf_matrix, confidence_intervals):\n",
    "        if (spatial.distance.cosine(list(prediction.values()), row) > ci_limit):\n",
    "            one_class += 1\n",
    "one_class\n"
   ]
  },
  {
   "cell_type": "markdown",
   "metadata": {},
   "source": [
    "## Neural nets"
   ]
  },
  {
   "cell_type": "code",
   "execution_count": 69,
   "metadata": {
    "collapsed": false
   },
   "outputs": [
    {
     "name": "stderr",
     "output_type": "stream",
     "text": [
      "Using TensorFlow backend.\n"
     ]
    }
   ],
   "source": [
    "import keras\n",
    "from keras.models import Sequential\n",
    "from keras.layers import Dense, Dropout, Activation, Flatten\n",
    "from keras.utils import np_utils\n",
    "from keras.optimizers import SGD, adam\n"
   ]
  },
  {
   "cell_type": "code",
   "execution_count": 70,
   "metadata": {
    "collapsed": false
   },
   "outputs": [],
   "source": [
    "YNNTrain = np_utils.to_categorical(y_train, 10)\n",
    "YNNTest = np_utils.to_categorical(y_test, 10)"
   ]
  },
  {
   "cell_type": "code",
   "execution_count": 71,
   "metadata": {
    "collapsed": false
   },
   "outputs": [
    {
     "data": {
      "text/plain": [
       "array([[ 1.,  0.,  0., ...,  0.,  0.,  0.],\n",
       "       [ 1.,  0.,  0., ...,  0.,  0.,  0.],\n",
       "       [ 1.,  0.,  0., ...,  0.,  0.,  0.],\n",
       "       ..., \n",
       "       [ 0.,  0.,  0., ...,  1.,  0.,  0.],\n",
       "       [ 0.,  0.,  0., ...,  1.,  0.,  0.],\n",
       "       [ 0.,  0.,  0., ...,  1.,  0.,  0.]])"
      ]
     },
     "execution_count": 71,
     "metadata": {},
     "output_type": "execute_result"
    }
   ],
   "source": [
    "YNNTest\n"
   ]
  },
  {
   "cell_type": "code",
   "execution_count": 72,
   "metadata": {
    "collapsed": false
   },
   "outputs": [],
   "source": [
    "model = Sequential()\n",
    "model.add(Dense(13, activation='relu',  input_dim = 13))\n",
    "model.add(Dropout(0.02))\n",
    "\n",
    "model.add(Dense(35, activation='relu'))\n",
    "model.add(Dropout(0.02))\n",
    "\n",
    "model.add(Dense(15, activation='relu'))\n",
    "model.add(Dropout(0.02))\n",
    "\n",
    "model.add(Dense(15, activation='relu'))\n",
    "model.add(Dropout(0.02))\n",
    "\n",
    "model.add(Dense(len(YNNTest[0]), activation='softmax'))"
   ]
  },
  {
   "cell_type": "code",
   "execution_count": 73,
   "metadata": {
    "collapsed": false
   },
   "outputs": [],
   "source": [
    "model.compile(loss='categorical_crossentropy',\n",
    "              optimizer='adam',\n",
    "              metrics=['accuracy'])"
   ]
  },
  {
   "cell_type": "code",
   "execution_count": 74,
   "metadata": {
    "collapsed": false
   },
   "outputs": [],
   "source": [
    "# Compile model\n",
    "epochs = 10\n",
    "lrate = 0.01\n",
    "decay = lrate/epochs\n",
    "sgd = SGD(lr=lrate, momentum=0.9, decay=decay, nesterov=False)\n",
    "optimi = adam()\n",
    "model.compile(loss='categorical_crossentropy', optimizer=optimi, metrics=['accuracy'])\n"
   ]
  },
  {
   "cell_type": "code",
   "execution_count": 75,
   "metadata": {
    "collapsed": false
   },
   "outputs": [
    {
     "name": "stdout",
     "output_type": "stream",
     "text": [
      "Epoch 1/10\n",
      "48000/48000 [==============================] - 3s - loss: 1.0976 - acc: 0.5687     \n",
      "Epoch 2/10\n",
      "48000/48000 [==============================] - 2s - loss: 0.8692 - acc: 0.6621     \n",
      "Epoch 3/10\n",
      "48000/48000 [==============================] - 2s - loss: 0.8389 - acc: 0.6751     \n",
      "Epoch 4/10\n",
      "48000/48000 [==============================] - 2s - loss: 0.8226 - acc: 0.6816     \n",
      "Epoch 5/10\n",
      "48000/48000 [==============================] - 2s - loss: 0.8103 - acc: 0.6879     \n",
      "Epoch 6/10\n",
      "48000/48000 [==============================] - 2s - loss: 0.8008 - acc: 0.6901     \n",
      "Epoch 7/10\n",
      "48000/48000 [==============================] - 2s - loss: 0.7975 - acc: 0.6913     \n",
      "Epoch 8/10\n",
      "48000/48000 [==============================] - 2s - loss: 0.7890 - acc: 0.6938     \n",
      "Epoch 9/10\n",
      "48000/48000 [==============================] - 2s - loss: 0.7839 - acc: 0.6965     \n",
      "Epoch 10/10\n",
      "48000/48000 [==============================] - 2s - loss: 0.7805 - acc: 0.6964     \n"
     ]
    },
    {
     "data": {
      "text/plain": [
       "<keras.callbacks.History at 0x7f9d8ce43cc0>"
      ]
     },
     "execution_count": 75,
     "metadata": {},
     "output_type": "execute_result"
    }
   ],
   "source": [
    "model.fit(train.as_matrix(), YNNTrain, batch_size = 24, epochs = epochs, verbose = 1)\n"
   ]
  },
  {
   "cell_type": "code",
   "execution_count": null,
   "metadata": {
    "collapsed": true
   },
   "outputs": [],
   "source": []
  },
  {
   "cell_type": "code",
   "execution_count": null,
   "metadata": {
    "collapsed": true
   },
   "outputs": [],
   "source": []
  }
 ],
 "metadata": {
  "kernelspec": {
   "display_name": "Python 3",
   "language": "python",
   "name": "python3"
  },
  "language_info": {
   "codemirror_mode": {
    "name": "ipython",
    "version": 3
   },
   "file_extension": ".py",
   "mimetype": "text/x-python",
   "name": "python",
   "nbconvert_exporter": "python",
   "pygments_lexer": "ipython3",
   "version": "3.5.2"
  }
 },
 "nbformat": 4,
 "nbformat_minor": 1
}
