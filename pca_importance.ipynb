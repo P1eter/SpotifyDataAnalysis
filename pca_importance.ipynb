{
 "cells": [
  {
   "cell_type": "code",
   "execution_count": 101,
   "metadata": {
    "collapsed": true
   },
   "outputs": [],
   "source": [
    "import sys\n",
    "import spotipy\n",
    "import spotipy.util as util\n",
    "\n",
    "from sklearn.decomposition import PCA\n",
    "from sklearn.preprocessing import scale, minmax_scale\n",
    "\n",
    "import matplotlib.pyplot as plt\n",
    "import numpy as np\n",
    "import pickle\n",
    "import pandas as pd\n",
    "\n",
    "SPOTIPY_REDIRECT_URI='http://localhost:8888/callback'\n",
    "SPOTIPY_CLIENT_SECRET='c02f97ddd119470d8e24b290722c7490'\n",
    "SPOTIPY_CLIENT_ID='647ffb8c163b4882be0cafe4bf1352d5'\n",
    "SCOPE='user-library-read'\n",
    "USERNAME = '29n1g5zgbzcs413wmovhqdguz'"
   ]
  },
  {
   "cell_type": "code",
   "execution_count": 3,
   "metadata": {},
   "outputs": [
    {
     "name": "stdout",
     "output_type": "stream",
     "text": [
      "\n",
      "\n",
      "            User authentication requires interaction with your\n",
      "            web browser. Once you enter your credentials and\n",
      "            give authorization, you will be redirected to\n",
      "            a url.  Paste that url you were directed to to\n",
      "            complete the authorization.\n",
      "\n",
      "        \n",
      "Opened https://accounts.spotify.com/authorize?client_id=647ffb8c163b4882be0cafe4bf1352d5&response_type=code&redirect_uri=http%3A%2F%2Flocalhost%3A8888%2Fcallback&scope=user-library-read in your browser\n",
      "\n",
      "\n",
      "Enter the URL you were redirected to: http://localhost:8888/callback?code=AQAwZp8_VTyMPrq5T3EcG0mx7fMM2mGQXErqOldj1WqETJkXkLPg5cWpiMxPOU9pjM8VY5LxNwyWoWC34_z3KYE0bLZRE3PmrU2R9tcH6X_6y4XuHQ4FFakP8zWc-lXUDTgVCGsMu9OZBkQF_TP2fD0VWlGTSp25KRXFTkYmgsOklImJOBOQz-fLsdXfxOPj2gLyD5QcZNVQd1PR7msl2MU4ZYjVGTc\n",
      "\n",
      "\n"
     ]
    }
   ],
   "source": [
    "token = util.prompt_for_user_token(username=USERNAME,\n",
    "                           scope=SCOPE,\n",
    "                           client_id=SPOTIPY_CLIENT_ID,\n",
    "                           client_secret=SPOTIPY_CLIENT_SECRET,\n",
    "                           redirect_uri=SPOTIPY_REDIRECT_URI)\n",
    "\n",
    "if not token:\n",
    "    print(\"Can't get token for username\", username)\n",
    "    sys.exit(1)\n",
    "\n",
    "sp = spotipy.Spotify(auth=token)"
   ]
  },
  {
   "cell_type": "code",
   "execution_count": 177,
   "metadata": {},
   "outputs": [],
   "source": [
    "grunge_features = pickle.load(open(\"datasets/grunge_features\", \"rb\"))\n",
    "rap_features = pickle.load(open(\"datasets/rap_features\", \"rb\"))\n",
    "soul_features = pickle.load(open(\"datasets/soul_features\", \"rb\"))\n",
    "techno_features = pickle.load(open(\"datasets/techno_features\", \"rb\"))"
   ]
  },
  {
   "cell_type": "markdown",
   "metadata": {},
   "source": [
    "If we define the importance of a feature as the measure of the variability of the data for that feature, we can use PCA to assign each feature an importance value."
   ]
  },
  {
   "cell_type": "code",
   "execution_count": 192,
   "metadata": {},
   "outputs": [],
   "source": [
    "def sort_features_importance(data):\n",
    "    data_columns = data.columns\n",
    "    data_norm = scale(data)\n",
    "    data_norm = pd.DataFrame(data_norm, columns=data_columns)\n",
    "    \n",
    "    feature_n = data.shape[1]\n",
    "\n",
    "    pca = PCA()\n",
    "    pca.fit(data_norm)\n",
    "    \n",
    "    features_importances = {x: 0 for x in range(feature_n)}\n",
    "    \n",
    "    for comp_i in range(feature_n):\n",
    "        comp = pca.components_[comp_i]\n",
    "        importances = comp * pca.explained_variance_ratio_[comp_i]\n",
    "\n",
    "        for feature_i, importance in enumerate(importances):\n",
    "            if importance > features_importances[feature_i]:\n",
    "                features_importances[feature_i] = importance\n",
    "    feature_indices = sorted(features_importances, key=lambda x: features_importances[x], reverse=True)\n",
    "\n",
    "    return list(data_columns[feature_indices])"
   ]
  },
  {
   "cell_type": "code",
   "execution_count": 193,
   "metadata": {},
   "outputs": [
    {
     "name": "stdout",
     "output_type": "stream",
     "text": [
      "['tempo', 'key', 'acousticness', 'instrumentalness', 'danceability', 'liveness', 'duration_ms', 'speechiness', 'valence', 'time_signature', 'mode', 'loudness', 'energy']\n",
      "['acousticness', 'duration_ms', 'speechiness', 'liveness', 'instrumentalness', 'tempo', 'mode', 'loudness', 'key', 'energy', 'time_signature', 'valence', 'danceability']\n",
      "['acousticness', 'key', 'duration_ms', 'instrumentalness', 'danceability', 'speechiness', 'liveness', 'time_signature', 'loudness', 'valence', 'tempo', 'mode', 'energy']\n",
      "['duration_ms', 'key', 'speechiness', 'instrumentalness', 'liveness', 'mode', 'valence', 'time_signature', 'acousticness', 'danceability', 'tempo', 'loudness', 'energy']\n"
     ]
    }
   ],
   "source": [
    "print(sort_features_importance(techno_features))\n",
    "print(sort_features_importance(soul_features))\n",
    "print(sort_features_importance(grunge_features))\n",
    "print(sort_features_importance(rap_features))"
   ]
  },
  {
   "cell_type": "code",
   "execution_count": null,
   "metadata": {
    "collapsed": true
   },
   "outputs": [],
   "source": []
  }
 ],
 "metadata": {
  "kernelspec": {
   "display_name": "Python 3",
   "language": "python",
   "name": "python3"
  },
  "language_info": {
   "codemirror_mode": {
    "name": "ipython",
    "version": 3
   },
   "file_extension": ".py",
   "mimetype": "text/x-python",
   "name": "python",
   "nbconvert_exporter": "python",
   "pygments_lexer": "ipython3",
   "version": "3.6.1"
  }
 },
 "nbformat": 4,
 "nbformat_minor": 2
}
