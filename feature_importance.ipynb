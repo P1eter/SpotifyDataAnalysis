{
 "cells": [
  {
   "cell_type": "code",
   "execution_count": 1,
   "metadata": {
    "collapsed": true
   },
   "outputs": [],
   "source": [
    "import sys\n",
    "import spotipy\n",
    "import spotipy.util as util\n",
    "\n",
    "from sklearn.feature_selection import VarianceThreshold\n",
    "\n",
    "import matplotlib.pyplot as plt\n",
    "import numpy as np\n",
    "import pandas as pd\n",
    "from sklearn.ensemble import RandomForestClassifier\n",
    "\n",
    "SPOTIPY_REDIRECT_URI='http://localhost:8888/callback'\n",
    "SPOTIPY_CLIENT_SECRET='c02f97ddd119470d8e24b290722c7490'\n",
    "SPOTIPY_CLIENT_ID='647ffb8c163b4882be0cafe4bf1352d5'\n",
    "SCOPE='user-library-read'\n",
    "USERNAME = '29n1g5zgbzcs413wmovhqdguz'\n",
    "\n",
    "HIPHOP_PLAYLIST = '7lNigxwnh2dbFuKBtgXlys'\n",
    "HIPHOP_PLAYLIST_USER = '1279497600'\n",
    "\n",
    "COUNTRY_PLAYLIST = '4Fzi6FwTsiWkx6wrWkdwTR'\n",
    "COUNTRY_PLAYLIST_USER = '12131895985'"
   ]
  },
  {
   "cell_type": "code",
   "execution_count": 2,
   "metadata": {
    "collapsed": false
   },
   "outputs": [],
   "source": [
    "# !rm .cache-29n1g5zgbzcs413wmovhqdguz"
   ]
  },
  {
   "cell_type": "code",
   "execution_count": 3,
   "metadata": {
    "collapsed": false
   },
   "outputs": [
    {
     "name": "stdout",
     "output_type": "stream",
     "text": [
      "\n",
      "\n",
      "            User authentication requires interaction with your\n",
      "            web browser. Once you enter your credentials and\n",
      "            give authorization, you will be redirected to\n",
      "            a url.  Paste that url you were directed to to\n",
      "            complete the authorization.\n",
      "\n",
      "        \n",
      "Opened https://accounts.spotify.com/authorize?scope=user-library-read&redirect_uri=http%3A%2F%2Flocalhost%3A8888%2Fcallback&response_type=code&client_id=647ffb8c163b4882be0cafe4bf1352d5 in your browser\n",
      "\n",
      "\n",
      "Enter the URL you were redirected to: http://localhost:8888/callback?code=AQB0mgoQSVqc6ggEpKYcxKpEc18UoDfnD1T1TDVnGm-ap_JHu5C_LNSd52albhRomRkvwNqxc1KEIIkaFgDh4blTzu9iWTtCUul1MGMmVsGSGrV6Z_cMQHsTQfbHFAobJL9NhXlPLK2biYGpa6TgiuA1wuP7qQUvGLPG2ajf7sKUNdAC0XBSUtTYQI1pJDdMbktXmwSXntQSZMhE-e9JIDS_kh5J-0U\n",
      "\n",
      "\n"
     ]
    }
   ],
   "source": [
    "token = util.prompt_for_user_token(username=USERNAME,\n",
    "                           scope=SCOPE,\n",
    "                           client_id=SPOTIPY_CLIENT_ID,\n",
    "                           client_secret=SPOTIPY_CLIENT_SECRET,\n",
    "                           redirect_uri=SPOTIPY_REDIRECT_URI)\n",
    "\n",
    "if not token:\n",
    "    print(\"Can't get token for username\", username)\n",
    "    sys.exit(1)\n",
    "\n",
    "sp = spotipy.Spotify(auth=token)"
   ]
  },
  {
   "cell_type": "code",
   "execution_count": 77,
   "metadata": {
    "collapsed": false
   },
   "outputs": [],
   "source": [
    "def get_playlist_tracks(username, playlist_id):\n",
    "    results = sp.user_playlist_tracks(username,playlist_id)\n",
    "    tracks = results['items']\n",
    "    while results['next']:\n",
    "        results = sp.next(results)\n",
    "        tracks.extend(results['items'])\n",
    "    return tracks\n",
    "\n",
    "def get_audio_features(ids):\n",
    "    audio_feats = []\n",
    "    \n",
    "    for i in range(0, len(ids), 100):\n",
    "        audio_feats += sp.audio_features(ids[i:i+100])\n",
    "        \n",
    "    return audio_feats\n",
    "\n",
    "def extract_feature(features, feature):\n",
    "    return [track[feature] for track in features]\n",
    "\n",
    "def get_data(users, playlists):\n",
    "    track_list = [get_playlist_tracks(user, playlist) for user, playlist in zip(users, playlists)]\n",
    "    trackidlist = [[track['track']['id'] for track in tracks] for tracks in track_list]\n",
    "    return [get_audio_features(trackids) for trackids in trackidlist]\n",
    "    \n",
    "def plot_feature_importances(data):\n",
    "    datamatrix = np.zeros(13)\n",
    "    lengths = []\n",
    "\n",
    "    for audiofeatures in data:\n",
    "        part = np.delete(np.array([np.array(list(feature.values())) for feature in audiofeatures if feature != None]), [0, 2, 9, 11, 15], 1)\n",
    "        lengths += [len(part)]\n",
    "        datamatrix = np.vstack((datamatrix, np.delete(np.array([np.array(list(feature.values())) for feature in audiofeatures if feature != None]), [0, 2, 9, 11, 15], 1)))\n",
    "    \n",
    "    datamatrix = np.delete(datamatrix, 0, 0)\n",
    "    indices = np.delete(list(data[0][1].keys()), [0, 2, 9, 11, 15], 0)\n",
    "\n",
    "    y = []\n",
    "    for i in range(len(lengths)):\n",
    "        y += [i] * lengths[i]\n",
    "\n",
    "    clf = RandomForestClassifier()\n",
    "    clf.fit(datamatrix, y)\n",
    "\n",
    "    importance = pd.DataFrame(clf.feature_importances_, index=indices, columns=[\"importance\"])\n",
    "\n",
    "    importance[\"Std\"] = np.std([tree.feature_importances_ for tree in clf.estimators_], axis = 0)\n",
    "\n",
    "    x = np.arange(importance.shape[0])\n",
    "    y = importance.iloc[:, 0]\n",
    "    yerr = importance.iloc[:, 1]\n",
    "\n",
    "    plt.figure(figsize=(10, 7))\n",
    "    plt.bar(x, y, yerr=yerr, align=\"center\")\n",
    "\n",
    "    plt.show()\n",
    "    \n",
    "    \n",
    "def plot_feature_importances_from_pickle(data, indices, n):\n",
    "    lengths = []\n",
    "\n",
    "    datamatrix = np.zeros(13)\n",
    "    \n",
    "    for genre in data:\n",
    "        lengths += [len(genre)]\n",
    "        datamatrix = np.vstack((datamatrix, genre))\n",
    "        \n",
    "    datamatrix = np.delete(datamatrix, 0, 0)\n",
    "    \n",
    "    y = []\n",
    "    for i in range(len(lengths)):\n",
    "        y += [i] * lengths[i]\n",
    "        \n",
    "    all_importances = []\n",
    "    \n",
    "    for _ in range(n):\n",
    "        clf = RandomForestClassifier()\n",
    "        clf.fit(datamatrix, y)\n",
    "        all_importances += [tree.feature_importances_ for tree in clf.estimators_]\n",
    "\n",
    "    importance = pd.DataFrame(np.mean(all_importances, 0), index=indices, columns=[\"importance\"])\n",
    "    importance['std'] = np.std(all_importances, 0)\n",
    "        \n",
    "    x = np.arange(importance.shape[0])\n",
    "    y = importance.iloc[:, 0]\n",
    "    yerr = importance.iloc[:, 1]\n",
    "\n",
    "    plt.figure(figsize=(10, 7))\n",
    "    plt.bar(x, y, yerr=yerr, align=\"center\")\n",
    "\n",
    "    plt.show()"
   ]
  },
  {
   "cell_type": "code",
   "execution_count": 14,
   "metadata": {
    "collapsed": false,
    "scrolled": true
   },
   "outputs": [],
   "source": [
    "data = get_data([HIPHOP_PLAYLIST_USER, COUNTRY_PLAYLIST_USER], [HIPHOP_PLAYLIST, COUNTRY_PLAYLIST])"
   ]
  },
  {
   "cell_type": "code",
   "execution_count": 196,
   "metadata": {
    "collapsed": false,
    "scrolled": false
   },
   "outputs": [
    {
     "data": {
      "image/png": "[encoded data removed]",
      "text/plain": [
       "<matplotlib.figure.Figure at 0x7f18fc5f1c88>"
      ]
     },
     "metadata": {},
     "output_type": "display_data"
    }
   ],
   "source": [
    "plot_feature_importances(data)"
   ]
  },
  {
   "cell_type": "code",
   "execution_count": 39,
   "metadata": {
    "collapsed": true
   },
   "outputs": [],
   "source": [
    "import pickle"
   ]
  },
  {
   "cell_type": "code",
   "execution_count": 55,
   "metadata": {
    "collapsed": false
   },
   "outputs": [],
   "source": [
    "funk_features = pickle.load(open(\"datasets/funk_features\", \"rb\"))\n",
    "punk_features = pickle.load(open(\"datasets/punk_features\", \"rb\"))\n",
    "rock_features = pickle.load(open(\"datasets/rock_features\", \"rb\"))\n",
    "jazz_features = pickle.load(open(\"datasets/jazz_features\", \"rb\"))\n",
    "\n",
    "vaporwave_features = pickle.load(open(\"datasets/vaporwave_features\", \"rb\"))\n",
    "classical_features = pickle.load(open(\"datasets/classical_features\", \"rb\"))\n",
    "hiphop_features    = pickle.load(open(\"datasets/hiphop_features\",    \"rb\"))\n",
    "house_features     = pickle.load(open(\"datasets/house_features\",     \"rb\"))"
   ]
  },
  {
   "cell_type": "code",
   "execution_count": 56,
   "metadata": {
    "collapsed": false
   },
   "outputs": [],
   "source": [
    "indices = list(funk_features.columns)\n",
    "\n",
    "funk = funk_features.as_matrix()\n",
    "punk = punk_features.as_matrix()\n",
    "rock = rock_features.as_matrix()\n",
    "jazz = jazz_features.as_matrix()\n",
    "\n",
    "vaporwave = vaporwave_features.as_matrix()\n",
    "classical = classical_features.as_matrix()\n",
    "hiphop = hiphop_features.as_matrix()\n",
    "house = house_features.as_matrix()"
   ]
  },
  {
   "cell_type": "code",
   "execution_count": 84,
   "metadata": {
    "collapsed": false,
    "scrolled": true
   },
   "outputs": [
    {
     "data": {
      "image/png": "[encoded data removed]",
      "text/plain": [
       "<matplotlib.figure.Figure at 0x7fbbe8e998d0>"
      ]
     },
     "metadata": {},
     "output_type": "display_data"
    }
   ],
   "source": [
    "plot_feature_importances_from_pickle([punk, funk, rock, jazz, vaporwave, classical, hiphop, house], indices, 10)"
   ]
  }
 ],
 "metadata": {
  "kernelspec": {
   "display_name": "Python 3",
   "language": "python",
   "name": "python3"
  },
  "language_info": {
   "codemirror_mode": {
    "name": "ipython",
    "version": 3
   },
   "file_extension": ".py",
   "mimetype": "text/x-python",
   "name": "python",
   "nbconvert_exporter": "python",
   "pygments_lexer": "ipython3",
   "version": "3.5.2"
  }
 },
 "nbformat": 4,
 "nbformat_minor": 1
}
