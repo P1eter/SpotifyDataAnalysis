{
 "cells": [
  {
   "cell_type": "code",
   "execution_count": 1,
   "metadata": {
    "collapsed": true
   },
   "outputs": [],
   "source": [
    "import sys\n",
    "import spotipy\n",
    "import spotipy.util as util\n",
    "\n",
    "from sklearn.feature_selection import VarianceThreshold\n",
    "\n",
    "import matplotlib.pyplot as plt\n",
    "import numpy as np\n",
    "import pandas as pd\n",
    "from sklearn.ensemble import RandomForestClassifier\n",
    "\n",
    "SPOTIPY_REDIRECT_URI='http://localhost:8888/callback'\n",
    "SPOTIPY_CLIENT_SECRET='c02f97ddd119470d8e24b290722c7490'\n",
    "SPOTIPY_CLIENT_ID='647ffb8c163b4882be0cafe4bf1352d5'\n",
    "SCOPE='user-library-read'\n",
    "USERNAME = '29n1g5zgbzcs413wmovhqdguz'\n",
    "\n",
    "HIPHOP_PLAYLIST = '7lNigxwnh2dbFuKBtgXlys'\n",
    "HIPHOP_PLAYLIST_USER = '1279497600'\n",
    "\n",
    "COUNTRY_PLAYLIST = '4Fzi6FwTsiWkx6wrWkdwTR'\n",
    "COUNTRY_PLAYLIST_USER = '12131895985'"
   ]
  },
  {
   "cell_type": "code",
   "execution_count": 2,
   "metadata": {
    "collapsed": false
   },
   "outputs": [],
   "source": [
    "# !rm .cache-29n1g5zgbzcs413wmovhqdguz"
   ]
  },
  {
   "cell_type": "code",
   "execution_count": 3,
   "metadata": {
    "collapsed": false
   },
   "outputs": [],
   "source": [
    "token = util.prompt_for_user_token(username=USERNAME,\n",
    "                           scope=SCOPE,\n",
    "                           client_id=SPOTIPY_CLIENT_ID,\n",
    "                           client_secret=SPOTIPY_CLIENT_SECRET,\n",
    "                           redirect_uri=SPOTIPY_REDIRECT_URI)\n",
    "\n",
    "if not token:\n",
    "    print(\"Can't get token for username\", username)\n",
    "    sys.exit(1)\n",
    "\n",
    "sp = spotipy.Spotify(auth=token)"
   ]
  },
  {
   "cell_type": "code",
   "execution_count": 4,
   "metadata": {
    "collapsed": false
   },
   "outputs": [],
   "source": [
    "def get_playlist_tracks(username, playlist_id):\n",
    "    results = sp.user_playlist_tracks(username,playlist_id)\n",
    "    tracks = results['items']\n",
    "    while results['next']:\n",
    "        results = sp.next(results)\n",
    "        tracks.extend(results['items'])\n",
    "    return tracks\n",
    "\n",
    "def get_audio_features(ids):\n",
    "    audio_feats = []\n",
    "    \n",
    "    for i in range(0, len(ids), 100):\n",
    "        audio_feats += sp.audio_features(ids[i:i+100])\n",
    "        \n",
    "    return audio_feats\n",
    "\n",
    "def extract_feature(features, feature):\n",
    "    return [track[feature] for track in features]\n",
    "\n",
    "def get_data(users, playlists):\n",
    "    track_list = [get_playlist_tracks(user, playlist) for user, playlist in zip(users, playlists)]\n",
    "    trackidlist = [[track['track']['id'] for track in tracks] for tracks in track_list]\n",
    "    return [get_audio_features(trackids) for trackids in trackidlist]\n",
    "    \n",
    "def plot_feature_importances(data):\n",
    "    datamatrix = np.zeros(13)\n",
    "    lengths = []\n",
    "\n",
    "    for audiofeatures in data:\n",
    "        part = np.delete(np.array([np.array(list(feature.values())) for feature in audiofeatures if feature != None]), [0, 2, 9, 11, 15], 1)\n",
    "        lengths += [len(part)]\n",
    "        datamatrix = np.vstack((datamatrix, np.delete(np.array([np.array(list(feature.values())) for feature in audiofeatures if feature != None]), [0, 2, 9, 11, 15], 1)))\n",
    "    \n",
    "    datamatrix = np.delete(datamatrix, 0, 0)\n",
    "    indices = np.delete(list(data[0][1].keys()), [0, 2, 9, 11, 15], 0)\n",
    "\n",
    "    y = []\n",
    "    for i in range(len(lengths)):\n",
    "        y += [i] * lengths[i]\n",
    "\n",
    "    clf = RandomForestClassifier()\n",
    "    clf.fit(datamatrix, y)\n",
    "\n",
    "    importance = pd.DataFrame(clf.feature_importances_, index=indices, columns=[\"importance\"])\n",
    "\n",
    "    importance[\"Std\"] = np.std([tree.feature_importances_ for tree in clf.estimators_], axis = 0)\n",
    "\n",
    "    x = np.arange(importance.shape[0])\n",
    "    y = importance.iloc[:, 0]\n",
    "    yerr = importance.iloc[:, 1]\n",
    "\n",
    "    plt.figure(figsize=(10, 7))\n",
    "    plt.bar(x, y, yerr=yerr, align=\"center\")\n",
    "\n",
    "    plt.show()\n",
    "    \n",
    "    \n",
    "def plot_feature_importances_from_pickle(data, indices, n):\n",
    "    lengths = []\n",
    "\n",
    "    datamatrix = np.zeros(13)\n",
    "    \n",
    "    for genre in data:\n",
    "        lengths += [len(genre)]\n",
    "        datamatrix = np.vstack((datamatrix, genre))\n",
    "        \n",
    "    datamatrix = np.delete(datamatrix, 0, 0)\n",
    "    \n",
    "    y = []\n",
    "    for i in range(len(lengths)):\n",
    "        y += [i] * lengths[i]\n",
    "        \n",
    "    all_importances = []\n",
    "    \n",
    "    for _ in range(n):\n",
    "        clf = RandomForestClassifier()\n",
    "        clf.fit(datamatrix, y)\n",
    "        all_importances += [tree.feature_importances_ for tree in clf.estimators_]\n",
    "\n",
    "    importance = pd.DataFrame(np.mean(all_importances, 0), index=indices, columns=[\"importance\"])\n",
    "    importance['std'] = np.std(all_importances, 0)\n",
    "        \n",
    "    x = np.arange(importance.shape[0])\n",
    "    y = importance.iloc[:, 0]\n",
    "    yerr = importance.iloc[:, 1]\n",
    "\n",
    "    plt.figure(figsize=(10, 7))\n",
    "    plt.bar(x, y, yerr=yerr, align=\"center\")\n",
    "    plt.xticks(x, indices, rotation = 90, ha='right')\n",
    "\n",
    "    plt.show()"
   ]
  },
  {
   "cell_type": "code",
   "execution_count": 14,
   "metadata": {
    "collapsed": false,
    "scrolled": true
   },
   "outputs": [],
   "source": [
    "data = get_data([HIPHOP_PLAYLIST_USER, COUNTRY_PLAYLIST_USER], [HIPHOP_PLAYLIST, COUNTRY_PLAYLIST])"
   ]
  },
  {
   "cell_type": "code",
   "execution_count": 196,
   "metadata": {
    "collapsed": false,
    "scrolled": false
   },
   "outputs": [
    {
     "data": {
      "image/png": "[encoded data removed]",
      "text/plain": [
       "<matplotlib.figure.Figure at 0x7f18fc5f1c88>"
      ]
     },
     "metadata": {},
     "output_type": "display_data"
    }
   ],
   "source": [
    "plot_feature_importances(data)"
   ]
  },
  {
   "cell_type": "code",
   "execution_count": 5,
   "metadata": {
    "collapsed": true
   },
   "outputs": [],
   "source": [
    "import pickle"
   ]
  },
  {
   "cell_type": "code",
   "execution_count": 6,
   "metadata": {
    "collapsed": false
   },
   "outputs": [],
   "source": [
    "funk_features = pickle.load(open(\"datasets/funk_features\", \"rb\"))\n",
    "punk_features = pickle.load(open(\"datasets/punk_features\", \"rb\"))\n",
    "rock_features = pickle.load(open(\"datasets/rock_features\", \"rb\"))\n",
    "jazz_features = pickle.load(open(\"datasets/jazz_features\", \"rb\"))\n",
    "\n",
    "vaporwave_features = pickle.load(open(\"datasets/vaporwave_features\", \"rb\"))\n",
    "classical_features = pickle.load(open(\"datasets/classical_features\", \"rb\"))\n",
    "hiphop_features    = pickle.load(open(\"datasets/hiphop_features\",    \"rb\"))\n",
    "house_features     = pickle.load(open(\"datasets/house_features\",     \"rb\"))\n",
    "\n",
    "meditation_features = pd.read_pickle(\"datasets/meditation_features\")\n",
    "hardcore_features   = pd.read_pickle(\"datasets/hardcore_features\")\n",
    "kpop_features       = pd.read_pickle(\"datasets/k-pop_features\")\n",
    "metal_features      = pd.read_pickle(\"datasets/metal_features\")"
   ]
  },
  {
   "cell_type": "code",
   "execution_count": 8,
   "metadata": {
    "collapsed": false
   },
   "outputs": [
    {
     "name": "stdout",
     "output_type": "stream",
     "text": [
      "TEST SUCCEEDED\n"
     ]
    }
   ],
   "source": [
    "# test if column indices are the same for all \n",
    "indices = list(funk_features.columns)\n",
    "featureslist = [funk_features, punk_features, rock_features, jazz_features, vaporwave_features, classical_features, hiphop_features, house_features, meditation_features, hardcore_features, kpop_features, metal_features]\n",
    "for f in featureslist:\n",
    "    if not list(f.columns) == indices:\n",
    "        print(\"TEST FAILED\")\n",
    "        break\n",
    "else:\n",
    "    print(\"TEST SUCCEEDED\")"
   ]
  },
  {
   "cell_type": "code",
   "execution_count": 9,
   "metadata": {
    "collapsed": false
   },
   "outputs": [],
   "source": [
    "indices = list(funk_features.columns)\n",
    "\n",
    "funk = funk_features.as_matrix()\n",
    "punk = punk_features.as_matrix()\n",
    "rock = rock_features.as_matrix()\n",
    "jazz = jazz_features.as_matrix()\n",
    "\n",
    "vaporwave = vaporwave_features.as_matrix()\n",
    "classical = classical_features.as_matrix()\n",
    "hiphop    = hiphop_features.as_matrix()\n",
    "house     = house_features.as_matrix()\n",
    "\n",
    "meditation = meditation_features.as_matrix()\n",
    "hardcore   = hardcore_features.as_matrix()\n",
    "metal      = metal_features.as_matrix()\n",
    "kpop       = kpop_features.as_matrix()"
   ]
  },
  {
   "cell_type": "code",
   "execution_count": 10,
   "metadata": {
    "collapsed": false,
    "scrolled": true
   },
   "outputs": [
    {
     "data": {
      "image/png": "[encoded data removed]",
      "text/plain": [
       "<matplotlib.figure.Figure at 0x7f14c00b81d0>"
      ]
     },
     "metadata": {},
     "output_type": "display_data"
    }
   ],
   "source": [
    "plot_feature_importances_from_pickle([punk, funk, rock, jazz, vaporwave, classical, hiphop, house, kpop, hardcore, meditation, metal], indices, 10)"
   ]
  },
  {
   "cell_type": "code",
   "execution_count": 11,
   "metadata": {
    "collapsed": false
   },
   "outputs": [
    {
     "data": {
      "image/png": "[encoded data removed]",
      "text/plain": [
       "<matplotlib.figure.Figure at 0x7f14bff6fe48>"
      ]
     },
     "metadata": {},
     "output_type": "display_data"
    }
   ],
   "source": [
    "plot_feature_importances_from_pickle([punk, funk], indices, 10)"
   ]
  },
  {
   "cell_type": "code",
   "execution_count": null,
   "metadata": {
    "collapsed": true
   },
   "outputs": [],
   "source": []
  },
  {
   "cell_type": "code",
   "execution_count": null,
   "metadata": {
    "collapsed": true
   },
   "outputs": [],
   "source": []
  },
  {
   "cell_type": "code",
   "execution_count": null,
   "metadata": {
    "collapsed": true
   },
   "outputs": [],
   "source": []
  },
  {
   "cell_type": "code",
   "execution_count": null,
   "metadata": {
    "collapsed": true
   },
   "outputs": [],
   "source": []
  },
  {
   "cell_type": "code",
   "execution_count": null,
   "metadata": {
    "collapsed": true
   },
   "outputs": [],
   "source": []
  },
  {
   "cell_type": "code",
   "execution_count": null,
   "metadata": {
    "collapsed": true
   },
   "outputs": [],
   "source": []
  },
  {
   "cell_type": "code",
   "execution_count": null,
   "metadata": {
    "collapsed": true
   },
   "outputs": [],
   "source": []
  },
  {
   "cell_type": "code",
   "execution_count": null,
   "metadata": {
    "collapsed": true
   },
   "outputs": [],
   "source": []
  },
  {
   "cell_type": "code",
   "execution_count": null,
   "metadata": {
    "collapsed": true
   },
   "outputs": [],
   "source": []
  }
 ],
 "metadata": {
  "kernelspec": {
   "display_name": "Python 3",
   "language": "python",
   "name": "python3"
  },
  "language_info": {
   "codemirror_mode": {
    "name": "ipython",
    "version": 3
   },
   "file_extension": ".py",
   "mimetype": "text/x-python",
   "name": "python",
   "nbconvert_exporter": "python",
   "pygments_lexer": "ipython3",
   "version": "3.5.2"
  }
 },
 "nbformat": 4,
 "nbformat_minor": 1
}
